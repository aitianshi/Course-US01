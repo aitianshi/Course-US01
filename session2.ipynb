{
 "cells": [
  {
   "cell_type": "code",
   "execution_count": null,
   "metadata": {},
   "outputs": [],
   "source": [
    "# Libraries\n",
    "import pandas as pd\n",
    "import requests as rq\n",
    "import re as re\n",
    "import pickle"
   ]
  },
  {
   "cell_type": "code",
   "execution_count": null,
   "metadata": {},
   "outputs": [],
   "source": [
    "# Get all links of the indicators\n",
    "df_links = pd.read_excel(\"data_files/Data-sheet-STUDENTS.xlsx\", sheet_name=\"Data sources\", header=None, usecols=\"C\", skiprows=3, na_values=\"\")\n",
    "df_links = df_links.dropna()\n",
    "links = []\n",
    "for index, link in df_links[2].items():\n",
    "    # We don't handle other source for now\n",
    "    if \"data.worldbank\" not in link:\n",
    "        continue\n",
    "        \n",
    "    # Match the useful indicator in the link\n",
    "    match = re.search(\"indicator/([\\.|\\w]*)\", link)\n",
    "    links.append(match.group(1))"
   ]
  },
  {
   "cell_type": "code",
   "execution_count": null,
   "metadata": {},
   "outputs": [],
   "source": [
    "# Get countries data\n",
    "df = pd.read_excel('data_files/Data-sheet-STUDENTS.xlsx', header=2, index_col=0)"
   ]
  },
  {
   "cell_type": "code",
   "execution_count": null,
   "metadata": {},
   "outputs": [],
   "source": [
    "# Store the info of Country - ISO Code\n",
    "iso_codes = {}"
   ]
  },
  {
   "cell_type": "code",
   "execution_count": null,
   "metadata": {},
   "outputs": [],
   "source": [
    "# Get countries name for API request - Get ISO code\n",
    "for index, name in df['Country (according to CN Gov):'].items():\n",
    "    \n",
    "    # Clean the data\n",
    "    cleaned_name = name.split('(')[0].strip()\n",
    "    if name == \"Thailiand\" :\n",
    "        cleaned_name = \"Thailand\"\n",
    "    elif name == \"The United Arab Emirates\":\n",
    "        cleaned_name = \"United Arab Emirates\"\n",
    "    elif name == \"Brunei\":\n",
    "        cleaned_name = \"Brunei Darussalam\"\n",
    "    elif name == \"Myanmar\":\n",
    "        cleaned_name = \"Burma\"\n",
    "    elif name == \"East Timor\":\n",
    "        cleaned_name = \"Timor-Leste\"\n",
    "    elif name == \"Kyrgyzstan\":\n",
    "        cleaned_name = \"Kyrgyz Republic\"\n",
    "    elif name == \"United States of America\":\n",
    "        cleaned_name = \"United States\"\n",
    "    \n",
    "    # We don't want to redo the request if the name already exists\n",
    "    if name in iso_codes :\n",
    "        continue\n",
    "         \n",
    "    # Request part\n",
    "    apiURL = \"https://restcountries.eu/rest/v2/name/\" + cleaned_name\n",
    "    resp = rq.get(apiURL)\n",
    "        \n",
    "    # Error handler\n",
    "    if(resp.status_code != 200) :\n",
    "        print(\"STATUS_CODE ERROR\", resp.status_code, resp.text)\n",
    "        continue\n",
    "        \n",
    "    # Response handler\n",
    "    data = resp.json()\n",
    "    alpha3Code = data[0]['alpha3Code']\n",
    "    alpha2Code = data[0]['alpha2Code']\n",
    "    if alpha3Code == \"IOT\":\n",
    "        alpha3Code = \"IND\"\n",
    "    iso_codes[name] = {\"iso3\" : alpha3Code, \"iso2\" : alpha2Code, \"other\" : cleaned_name}"
   ]
  },
  {
   "cell_type": "code",
   "execution_count": null,
   "metadata": {},
   "outputs": [],
   "source": [
    "iso_codes"
   ]
  },
  {
   "cell_type": "code",
   "execution_count": null,
   "metadata": {},
   "outputs": [],
   "source": [
    "# Save isocodes object for later use\n",
    "with open('objects_saved/isocodes.pkl', 'wb') as handle:\n",
    "  pickle.dump(iso_codes, handle)"
   ]
  },
  {
   "cell_type": "code",
   "execution_count": null,
   "metadata": {},
   "outputs": [],
   "source": [
    "# Store the info of ISO Code + the other indicators\n",
    "countries_inds = {}"
   ]
  },
  {
   "cell_type": "code",
   "execution_count": null,
   "metadata": {},
   "outputs": [],
   "source": [
    "indicators = {\n",
    "    \"GC.TAX.IMPT.ZS\": \"IMF WB\\nCustoms and other import duties (% of tax revenue) 2016\",\n",
    "    \"FB.AST.NPER.ZS\": \"WB IMF Non-performing loans to total gross loans ratio (%)\",\n",
    "    \"IS.RRS.GOOD.MT.K6\": \"UIC Rail freight (mn ton x km travelled)\",\n",
    "    \"IS.AIR.GOOD.MT.K1\": \"ICAO air freight (mn ton x km travelled)\",\n",
    "    \"NE.CON.PRVT.PP.CD\": \"WB Household final consumption expenditure, PPP bn USD\",\n",
    "    \"GB.XPD.RSDV.GD.ZS\": \"WB UNESCO R&D Expenditure % of GDP\",\n",
    "    \"SP.POP.SCIE.RD.P6\": \"WB UNESCO Researchers p. mn inhabitants\",\n",
    "    \"IC.REG.COST.PC.ZS\": \"WB Cost of Starting a Business\",\n",
    "    \"GC.DOD.TOTL.GD.ZS\": \"WB Central Government Debt\",\n",
    "    \"SH.XPD.CHEX.PP.CD\": \"WHO Current Health Expenditure p.c., PPP USD\",\n",
    "    \"IP.PAT.RESD\": \"WIPO Patent Applications\",\n",
    "    \"IP.TMK.RSCT\": \"WIPO Trademark applications\",\n",
    "    \"BX.KLT.DINV.WD.GD.ZS\": \"IFDI Net Inflows (% of GDP)\"\n",
    "}"
   ]
  },
  {
   "cell_type": "code",
   "execution_count": null,
   "metadata": {},
   "outputs": [],
   "source": [
    "# Get all columns name of the indicators\n",
    "for indic in links:\n",
    "    for country in iso_codes:\n",
    "\n",
    "        # If the data is already retrieved we don't make the request\n",
    "        if country not in countries_inds.keys():\n",
    "            countries_inds[country] = {}\n",
    "        elif indic in countries_inds[country].keys():\n",
    "            continue\n",
    "        \n",
    "        # Request part\n",
    "        apiURL = \"http://api.worldbank.org/v2/country/\"+ iso_codes[country]['iso3'] +\"/indicator/\"+ indic +\"?format=json&mrv=1\"\n",
    "        resp = rq.get(apiURL)\n",
    "\n",
    "        # Error handler\n",
    "        if(resp.status_code != 200) :\n",
    "            print(\"STATUS_CODE ERROR\", resp.status_code, resp.text)\n",
    "            print(\"Indicator : \" + indic + \" - country : \" + iso_codes[country]['iso3'])\n",
    "            print(\"URL : \" + apiURL)\n",
    "            continue\n",
    "\n",
    "        # Response handler\n",
    "        # print(\"indicator : \" + indic + \" - country : \" + country)\n",
    "        data = resp.json()\n",
    "        if data[1] is None:\n",
    "            continue\n",
    "        else :\n",
    "            indic_value = data[1][0]['value']\n",
    "        countries_inds[country].update({indic : indic_value})"
   ]
  },
  {
   "cell_type": "code",
   "execution_count": null,
   "metadata": {},
   "outputs": [],
   "source": [
    "countries_inds"
   ]
  },
  {
   "cell_type": "code",
   "execution_count": null,
   "metadata": {},
   "outputs": [
    {
     "name": "stderr",
     "output_type": "stream",
     "text": [
      "/home/aitian/anaconda3/lib/python3.7/site-packages/pandas/core/indexing.py:190: SettingWithCopyWarning: \n",
      "A value is trying to be set on a copy of a slice from a DataFrame\n",
      "\n",
      "See the caveats in the documentation: http://pandas.pydata.org/pandas-docs/stable/indexing.html#indexing-view-versus-copy\n",
      "  self._setitem_with_indexer(indexer, value)\n"
     ]
    }
   ],
   "source": [
    "for country in countries_inds.keys():\n",
    "    for indic in countries_inds[country]:\n",
    "        if pd.isnull( df[indicators[indic]].iloc[list(countries_inds).index(country)]):\n",
    "            df[indicators[indic]].iloc[list(countries_inds).index(country)] = countries_inds[country][indic]"
   ]
  },
  {
   "cell_type": "code",
   "execution_count": null,
   "metadata": {},
   "outputs": [],
   "source": [
    "df"
   ]
  },
  {
   "cell_type": "code",
   "execution_count": null,
   "metadata": {},
   "outputs": [],
   "source": [
    "df.to_pickle(\"objects_saved/data.pkl\")"
   ]
  },
  {
   "cell_type": "code",
   "execution_count": null,
   "metadata": {},
   "outputs": [],
   "source": []
  }
 ],
 "metadata": {
  "kernelspec": {
   "display_name": "Python 3",
   "language": "python",
   "name": "python3"
  },
  "language_info": {
   "codemirror_mode": {
    "name": "ipython",
    "version": 3
   },
   "file_extension": ".py",
   "mimetype": "text/x-python",
   "name": "python",
   "nbconvert_exporter": "python",
   "pygments_lexer": "ipython3",
   "version": "3.7.3"
  }
 },
 "nbformat": 4,
 "nbformat_minor": 4
}
