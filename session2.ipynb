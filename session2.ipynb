{
 "cells": [
  {
   "cell_type": "code",
   "execution_count": null,
   "metadata": {},
   "outputs": [],
   "source": [
    "# Libraries\n",
    "import pandas as pd\n",
    "import requests as rq\n",
    "import re as re\n",
    "import pickle"
   ]
  },
  {
   "cell_type": "code",
   "execution_count": null,
   "metadata": {},
   "outputs": [],
   "source": [
    "# Get all links of the indicators\n",
    "df_links = pd.read_excel(\"data_files/Data-sheet-STUDENTS.xlsx\", sheet_name=\"Data sources\", header=None, usecols=\"C\", skiprows=3, na_values=\"\")\n",
    "df_links = df_links.dropna()\n",
    "links = []\n",
    "for index, link in df_links[2].items():\n",
    "    # We don't handle other source for now\n",
    "    if \"data.worldbank\" not in link:\n",
    "        continue\n",
    "        \n",
    "    # Match the useful indicator in the link\n",
    "    match = re.search(\"indicator/([\\.|\\w]*)\", link)\n",
    "    links.append(match.group(1))"
   ]
  },
  {
   "cell_type": "code",
   "execution_count": null,
   "metadata": {},
   "outputs": [],
   "source": [
    "# Get countries data\n",
    "df = pd.read_excel('data_files/Data-sheet-STUDENTS.xlsx', header=2, index_col=0)"
   ]
  },
  {
   "cell_type": "code",
   "execution_count": null,
   "metadata": {},
   "outputs": [],
   "source": [
    "# Store the info of Country - ISO Code\n",
    "iso_codes = {}"
   ]
  },
  {
   "cell_type": "code",
   "execution_count": null,
   "metadata": {},
   "outputs": [],
   "source": [
    "# Get countries name for API request - Get ISO code\n",
    "for index, name in df['Country (according to CN Gov):'].items():\n",
    "    \n",
    "    # Clean the data\n",
    "    cleaned_name = name.split('(')[0].strip()\n",
    "    if name == \"Thailiand\" :\n",
    "        cleaned_name = \"Thailand\"\n",
    "    if name == \"The United Arab Emirates\":\n",
    "        cleaned_name = \"United Arab Emirates\"\n",
    "    \n",
    "    # We don't want to redo the request if the name already exists\n",
    "    if name in iso_codes :\n",
    "        continue\n",
    "         \n",
    "    # Request part\n",
    "    apiURL = \"https://restcountries.eu/rest/v2/name/\" + cleaned_name\n",
    "    resp = rq.get(apiURL)\n",
    "        \n",
    "    # Error handler\n",
    "    if(resp.status_code != 200) :\n",
    "        print(\"STATUS_CODE ERROR\", resp.status_code, resp.text)\n",
    "        continue\n",
    "        \n",
    "    # Response handler\n",
    "    data = resp.json()\n",
    "    alpha3Code = data[0]['alpha3Code']\n",
    "    alpha2Code = data[0]['alpha2Code']\n",
    "    if alpha3Code == \"IOT\":\n",
    "        alpha3Code = \"IND\"\n",
    "    iso_codes[name] = {\"iso3\" : alpha3Code, \"iso2\" : alpha2Code, \"other\" : cleaned_name}"
   ]
  },
  {
   "cell_type": "code",
   "execution_count": null,
   "metadata": {},
   "outputs": [],
   "source": [
    "iso_codes"
   ]
  },
  {
   "cell_type": "code",
   "execution_count": null,
   "metadata": {},
   "outputs": [],
   "source": [
    "# Save isocodes object for later use\n",
    "with open('objects_saved/isocodes.pkl', 'wb') as handle:\n",
    "  pickle.dump(iso_codes, handle)"
   ]
  },
  {
   "cell_type": "code",
   "execution_count": null,
   "metadata": {},
   "outputs": [],
   "source": [
    "# Store the info of ISO Code + the other indicators\n",
    "countries_inds = {}"
   ]
  },
  {
   "cell_type": "code",
   "execution_count": null,
   "metadata": {},
   "outputs": [],
   "source": [
    "# Get all columns name of the indicators\n",
    "for indic in links:\n",
    "    for country in iso_codes:\n",
    "\n",
    "        # If the data is already retrieved we don't make the request\n",
    "        if country not in countries_inds.keys():\n",
    "            countries_inds[country] = {}\n",
    "        elif indic in countries_inds[country].keys():\n",
    "            continue\n",
    "        \n",
    "        # Request part\n",
    "        apiURL = \"http://api.worldbank.org/v2/country/\"+ iso_codes[country]['iso3'] +\"/indicator/\"+ indic +\"?format=json&mrv=1\"\n",
    "        resp = rq.get(apiURL)\n",
    "\n",
    "        # Error handler\n",
    "        if(resp.status_code != 200) :\n",
    "            print(\"STATUS_CODE ERROR\", resp.status_code, resp.text)\n",
    "            print(\"Indicator : \" + indic + \" - country : \" + iso_codes[country]['iso3'])\n",
    "            print(\"URL : \" + apiURL)\n",
    "            continue\n",
    "\n",
    "        # Response handler\n",
    "        # print(\"indicator : \" + indic + \" - country : \" + country)\n",
    "        data = resp.json()\n",
    "        if data[1] is None:\n",
    "            indic_value = 0\n",
    "        else :\n",
    "            indic_value = data[1][0]['value']\n",
    "        countries_inds[country].update({indic : indic_value})"
   ]
  },
  {
   "cell_type": "code",
   "execution_count": null,
   "metadata": {},
   "outputs": [],
   "source": [
    "countries_inds"
   ]
  },
  {
   "cell_type": "code",
   "execution_count": null,
   "metadata": {},
   "outputs": [],
   "source": [
    "for country in countries_inds.keys():\n",
    "    for indic in countries_inds[country]:\n",
    "        if indic == \"GC.TAX.IMPT.ZS\":\n",
    "            if pd.isnull( df['IMF WB\\nCustoms and other import duties (% of tax revenue) 2016'].iloc[list(countries_inds).index(country)]):\n",
    "                df['IMF WB\\nCustoms and other import duties (% of tax revenue) 2016'].iloc[list(countries_inds).index(country)] = countries_inds[country][indic]\n",
    "                # df.loc[list(countries_inds).index(country), 'IMF WB\\nCustoms and other import duties (% of tax revenue) 2016'] = countries_inds[country][indic]\n",
    "        elif indic == \"FB.AST.NPER.ZS\":\n",
    "            if pd.isnull( df['WB IMF Non-performing loans to total gross loans ratio (%)'].iloc[list(countries_inds).index(country)]):\n",
    "                df['WB IMF Non-performing loans to total gross loans ratio (%)'].iloc[list(countries_inds).index(country)] = countries_inds[country][indic]\n",
    "        elif indic == \"IS.RRS.GOOD.MT.K6\":\n",
    "            if pd.isnull( df['UIC Rail freight (mn ton x km travelled)'].iloc[list(countries_inds).index(country)]):\n",
    "                df['UIC Rail freight (mn ton x km travelled)'].iloc[list(countries_inds).index(country)] = countries_inds[country][indic]\n",
    "        elif indic == \"IS.AIR.GOOD.MT.K1\":\n",
    "            if pd.isnull( df['ICAO air freight (mn ton x km travelled)'].iloc[list(countries_inds).index(country)]):\n",
    "                df['ICAO air freight (mn ton x km travelled)'].iloc[list(countries_inds).index(country)] = countries_inds[country][indic]\n",
    "        elif indic == \"NE.CON.PRVT.PP.CD\":\n",
    "            if pd.isnull( df['WB Household final consumption expenditure, PPP bn USD'].iloc[list(countries_inds).index(country)]):\n",
    "                df['WB Household final consumption expenditure, PPP bn USD'].iloc[list(countries_inds).index(country)] = countries_inds[country][indic]\n",
    "        elif indic == \"GB.XPD.RSDV.GD.ZS\":\n",
    "            if pd.isnull( df['WB UNESCO R&D Expenditure % of GDP'].iloc[list(countries_inds).index(country)]):\n",
    "                df['WB UNESCO R&D Expenditure % of GDP'].iloc[list(countries_inds).index(country)] = countries_inds[country][indic]\n",
    "        elif indic == \"SP.POP.SCIE.RD.P6\":\n",
    "            if pd.isnull( df['WB UNESCO Researchers p. mn inhabitants'].iloc[list(countries_inds).index(country)]):\n",
    "                df['WB UNESCO Researchers p. mn inhabitants'].iloc[list(countries_inds).index(country)] = countries_inds[country][indic]\n",
    "        elif indic == \"IC.REG.COST.PC.ZS\":\n",
    "            if pd.isnull( df['WB Cost of Starting a Business'].iloc[list(countries_inds).index(country)]):\n",
    "                df['WB Cost of Starting a Business'].iloc[list(countries_inds).index(country)] = countries_inds[country][indic] \n",
    "        elif indic == \"GC.DOD.TOTL.GD.ZS\":\n",
    "            if pd.isnull( df['WB Central Government Debt'].iloc[list(countries_inds).index(country)]):\n",
    "                df['WB Central Government Debt'].iloc[list(countries_inds).index(country)] = countries_inds[country][indic] \n",
    "        elif indic == \"SH.XPD.CHEX.PP.CD\":\n",
    "            if pd.isnull( df['WHO Current Health Expenditure p.c., PPP USD'].iloc[list(countries_inds).index(country)]):\n",
    "                df['WHO Current Health Expenditure p.c., PPP USD'].iloc[list(countries_inds).index(country)] = countries_inds[country][indic]\n",
    "        elif indic == \"IP.PAT.RESD\":\n",
    "            if pd.isnull( df['WIPO Patent Applications'].iloc[list(countries_inds).index(country)]):\n",
    "                df['WIPO Patent Applications'].iloc[list(countries_inds).index(country)] = countries_inds[country][indic] \n",
    "        elif indic == \"IP.TMK.RSCT\":\n",
    "            if pd.isnull( df['WIPO Trademark applications'].iloc[list(countries_inds).index(country)]):\n",
    "                df['WIPO Trademark applications'].iloc[list(countries_inds).index(country)] = countries_inds[country][indic]\n",
    "        elif indic == \"BX.KLT.DINV.WD.GD.ZS\":\n",
    "            if pd.isnull( df['IFDI Net Inflows (% of GDP)'].iloc[list(countries_inds).index(country)]):\n",
    "                df['IFDI Net Inflows (% of GDP)'].iloc[list(countries_inds).index(country)] = countries_inds[country][indic]   \n"
   ]
  },
  {
   "cell_type": "code",
   "execution_count": null,
   "metadata": {},
   "outputs": [],
   "source": [
    "df"
   ]
  },
  {
   "cell_type": "code",
   "execution_count": 37,
   "metadata": {},
   "outputs": [],
   "source": [
    "df.to_pickle(\"objects_saved/data.pkl\")"
   ]
  },
  {
   "cell_type": "code",
   "execution_count": null,
   "metadata": {},
   "outputs": [],
   "source": []
  }
 ],
 "metadata": {
  "kernelspec": {
   "display_name": "Python 3",
   "language": "python",
   "name": "python3"
  },
  "language_info": {
   "codemirror_mode": {
    "name": "ipython",
    "version": 3
   },
   "file_extension": ".py",
   "mimetype": "text/x-python",
   "name": "python",
   "nbconvert_exporter": "python",
   "pygments_lexer": "ipython3",
   "version": "3.7.3"
  }
 },
 "nbformat": 4,
 "nbformat_minor": 4
}
