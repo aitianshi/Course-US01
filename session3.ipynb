{
 "cells": [
  {
   "cell_type": "code",
   "execution_count": null,
   "metadata": {},
   "outputs": [],
   "source": [
    "import pandas as pd\n",
    "import pickle\n",
    "import requests as rq\n",
    "import json\n",
    "import math"
   ]
  },
  {
   "cell_type": "code",
   "execution_count": null,
   "metadata": {},
   "outputs": [],
   "source": [
    "df = pd.read_pickle(\"objects_saved/data.pkl\")"
   ]
  },
  {
   "cell_type": "code",
   "execution_count": null,
   "metadata": {},
   "outputs": [],
   "source": [
    "with open('objects_saved/isocodes.pkl', 'rb') as handle:\n",
    "  isocodes = pickle.load(handle)\n",
    "isocodes"
   ]
  },
  {
   "cell_type": "code",
   "execution_count": null,
   "metadata": {},
   "outputs": [],
   "source": [
    "with open('data_files/yidaiyilu_api_data.json', 'r') as handle:\n",
    "  data = json.load(handle)"
   ]
  },
  {
   "cell_type": "code",
   "execution_count": null,
   "metadata": {},
   "outputs": [],
   "source": [
    "yidaiyilu_data = {}"
   ]
  },
  {
   "cell_type": "code",
   "execution_count": null,
   "metadata": {},
   "outputs": [],
   "source": [
    "# Request part\n",
    "# Need to add a proxy to get the request - template of request\n",
    "'''\n",
    "apiURL = \"https://eng.yidaiyilu.gov.cn/wcm.files/data/data-query-20170525.effix\"\n",
    "headers = {\n",
    "    'Accept': \"application/json, text/javascript, */*; q=0.01\",\n",
    "    'Referer': \"https://eng.yidaiyilu.gov.cn/dsjym.htm\",\n",
    "    'X-Requested-With': \"XMLHttpRequest\",\n",
    "    'Sec-Fetch-Mode': \"cors\",\n",
    "    'User-Agent': \"Mozilla/5.0 (X11; Linux x86_64) AppleWebKit/537.36 (KHTML, like Gecko) Chrome/77.0.3865.120 Safari/537.36\",\n",
    "    'X-Request-Id': \"1150;r=19560479\",\n",
    "    'cache-control': \"no-cache\",\n",
    "    'Cookie' : \"__jsluid_s=a0854fc5fcc55ebf2f523fc55744cae0; path=/; domain=.eng.yidaiyilu.gov.cn; Secure; HttpOnly; Expires=Tue, 13 Oct 2020 02:15:44 GMT;\"\n",
    "}\n",
    "\n",
    "resp = rq.get(apiURL, headers)\n",
    "        \n",
    "# Error handler\n",
    "if(resp.status_code != 200) :\n",
    "    print(\"STATUS_CODE ERROR\", resp.status_code, resp.text)\n",
    "else:\n",
    "    # Response handler\n",
    "    data = resp.json()\n",
    "    data[\"country_macro\"]\n",
    "'''"
   ]
  },
  {
   "cell_type": "code",
   "execution_count": null,
   "metadata": {},
   "outputs": [],
   "source": [
    "# 2015 year\n",
    "year = \"65d2ea03425887a717c435081cfc5dbb\" \n",
    "\n",
    "# useful indicators for scrapping\n",
    "indicators = {\n",
    "    \"9b688b5fbb441714ba73f4379e7b135d\": \"BRI GDP\",\n",
    "    \"5c4591fe4746333f6e7b66b13ad980a2\": \"BRI GDP growth rate\",\n",
    "    \"6d602224213550f3ee07477f1654f326\": \"BRI GDP p.c.\",\n",
    "    \"07f451a8c9b2006fb937d1eb268ac60b\": \"BRI Y.o.Y. GDP growth rate p.c.\",\n",
    "    \"c1329b4c01d4c08a68b8a280fb5a90ec\": \"BRI Agriculture value added per sector \",\n",
    "    \"f00273fa66d45147b2dd4dadd6275d32\": \"BRI Industry value added per sector \",\n",
    "    \"41fedd97a26d4782e531b5b4c67622b7\": \"BRI Services value added per sector \",\n",
    "    \"7b8d0a597b57bab793f428193eb899fe\": \"BRI Internet penetration rate (%)\",\n",
    "    \"2a048dbe6ff2ee51d07a6314752c87d7\": \"BRI Population density (/km2)\",\n",
    "    \"85bf6dab128029be54a3b1e643f0aa71\": \"BRI Percentage of Urban Population in Total Population\"\n",
    "}\n",
    "\n",
    "for key_country in data['country_macro']['term']['area']:\n",
    "    full_country_name = data['country_macro']['term']['area'][key_country]['full']\n",
    "    short_country_name = data['country_macro']['term']['area'][key_country]['short']\n",
    "\n",
    "    # Check if we care about this country\n",
    "    if full_country_name not in isocodes and short_country_name not in isocodes:\n",
    "        continue\n",
    "    else:\n",
    "        yidaiyilu_data[full_country_name] = {}\n",
    "    \n",
    "    for key_indic in data['country_macro']['data'][year][key_country]:\n",
    "        # Check if we care about this indicator\n",
    "        if key_indic not in indicators:\n",
    "            continue\n",
    "        value = data['country_macro']['data'][year][key_country][key_indic]\n",
    "        if value == '':\n",
    "            value = 0\n",
    "        yidaiyilu_data[full_country_name].update({indicators[key_indic] : value})"
   ]
  },
  {
   "cell_type": "code",
   "execution_count": null,
   "metadata": {},
   "outputs": [],
   "source": [
    "# We check how many countries data we have\n",
    "len(yidaiyilu_data)"
   ]
  },
  {
   "cell_type": "code",
   "execution_count": null,
   "metadata": {},
   "outputs": [],
   "source": [
    "yidaiyilu_data"
   ]
  },
  {
   "cell_type": "code",
   "execution_count": null,
   "metadata": {},
   "outputs": [],
   "source": [
    "# Add data to df\n",
    "for country in yidaiyilu_data.keys():\n",
    "    global_rate = 0\n",
    "    for indic in yidaiyilu_data[country]:\n",
    "        if pd.isnull(df[indic].iloc[df['Country (according to CN Gov):'][df['Country (according to CN Gov):'] == country].index[0]-1]):\n",
    "            value = yidaiyilu_data[country][indic]\n",
    "            df[indic].iloc[df['Country (according to CN Gov):'][df['Country (according to CN Gov):'] == country].index[0]-1] = value\n",
    "            if \"sector\" in indicators[indic] :\n",
    "                global_rate += value\n",
    "        if global_rate > 0 :\n",
    "            df[\"Cumulative value added (numbers should reflect 100%)\"].iloc[df['Country (according to CN Gov):'][df['Country (according to CN Gov):'] == country].index[0]-1] = value"
   ]
  },
  {
   "cell_type": "code",
   "execution_count": null,
   "metadata": {},
   "outputs": [],
   "source": [
    "# Get the data from HF source\n",
    "hf_data_source = pd.read_excel('data_files/index2019_data.xls', index_col=0)"
   ]
  },
  {
   "cell_type": "code",
   "execution_count": null,
   "metadata": {},
   "outputs": [],
   "source": [
    "# Object with final data\n",
    "hf_data_keep = {}"
   ]
  },
  {
   "cell_type": "code",
   "execution_count": null,
   "metadata": {},
   "outputs": [],
   "source": [
    "# Check if we have the right countries\n",
    "for my_country in isocodes:\n",
    "    for index, country in hf_data_source['Country Name'].items():\n",
    "        if country == my_country or country == isocodes[my_country]['other']:\n",
    "            hf_data_keep[my_country] = {\"index\" : index}"
   ]
  },
  {
   "cell_type": "code",
   "execution_count": null,
   "metadata": {},
   "outputs": [],
   "source": [
    "for country in hf_data_keep:\n",
    "    rank = hf_data_source.loc[hf_data_keep[country]['index'],'World Rank']\n",
    "    scale = hf_data_source.loc[hf_data_keep[country]['index'],'2019 Score']\n",
    "           \n",
    "    hf_data_keep[country].update({\"rank\" : rank})\n",
    "    hf_data_keep[country].update({\"scale\" : scale})"
   ]
  },
  {
   "cell_type": "code",
   "execution_count": null,
   "metadata": {},
   "outputs": [],
   "source": [
    "hf_data_keep"
   ]
  },
  {
   "cell_type": "code",
   "execution_count": null,
   "metadata": {},
   "outputs": [],
   "source": [
    "# Add data to df\n",
    "for country in hf_data_keep.keys():\n",
    "    if pd.isnull( df['HF Index of Economic Freedom (Scale: 1-100)'].iloc[list(isocodes).index(country)]):\n",
    "        df['HF Index of Economic Freedom (Scale: 1-100)'].iloc[list(isocodes).index(country)] = hf_data_keep[country]['scale']\n",
    "    if pd.isnull( df['Heritage Foundation Index of Economic Freedom (Global Ranking)'].iloc[list(isocodes).index(country)]):\n",
    "        df['Heritage Foundation Index of Economic Freedom (Global Ranking)'].iloc[list(isocodes).index(country)] = hf_data_keep[country]['rank']"
   ]
  },
  {
   "cell_type": "code",
   "execution_count": null,
   "metadata": {},
   "outputs": [],
   "source": [
    "# Get the data from BTI source\n",
    "bti_data_source = pd.read_excel('data_files/BTI_2018_Scores.xlsx')"
   ]
  },
  {
   "cell_type": "code",
   "execution_count": null,
   "metadata": {},
   "outputs": [],
   "source": [
    "# Object with final data\n",
    "bti_data_keep = {}"
   ]
  },
  {
   "cell_type": "code",
   "execution_count": null,
   "metadata": {},
   "outputs": [],
   "source": [
    "# Check if we have the right countries\n",
    "for my_country in isocodes:\n",
    "    for index, country in bti_data_source['Regions:\\n1 | East-Central and Southeast Europe\\n2 | Latin America and the Caribbean\\n3 | West and Central Africa\\n4 | Middle East and North Africa\\n5 | South and East Africa\\n6 | Post-Soviet Eurasia\\n7 | Asia and Oceania'].items():\n",
    "        if country == my_country or country == isocodes[my_country]['other']:\n",
    "            bti_data_keep[my_country] = {\"index\" : index}"
   ]
  },
  {
   "cell_type": "code",
   "execution_count": null,
   "metadata": {},
   "outputs": [],
   "source": [
    "for country in bti_data_keep:\n",
    "    rank = bti_data_source.loc[bti_data_keep[country]['index'],'  Ranking Status Index']\n",
    "    scale = bti_data_source.loc[bti_data_keep[country]['index'],'  S | Status Index']\n",
    "                               \n",
    "    bti_data_keep[country].update({\"rank\" : rank})\n",
    "    bti_data_keep[country].update({\"scale\" : scale})"
   ]
  },
  {
   "cell_type": "code",
   "execution_count": null,
   "metadata": {},
   "outputs": [],
   "source": [
    "bti_data_keep"
   ]
  },
  {
   "cell_type": "code",
   "execution_count": null,
   "metadata": {},
   "outputs": [],
   "source": [
    "# Add data to df\n",
    "for country in bti_data_keep.keys():\n",
    "    if pd.isnull( df['Bertelsmann Transformation index (BTI)'].iloc[list(isocodes).index(country)]):\n",
    "        df['Bertelsmann Transformation index (BTI)'].iloc[list(isocodes).index(country)] = bti_data_keep[country]['scale']\n",
    "    if pd.isnull( df['Bertelsmann Transformation index (BTI) - Ranking'].iloc[list(isocodes).index(country)]):\n",
    "        df['Bertelsmann Transformation index (BTI) - Ranking'].iloc[list(isocodes).index(country)] = bti_data_keep[country]['rank']"
   ]
  },
  {
   "cell_type": "code",
   "execution_count": null,
   "metadata": {},
   "outputs": [],
   "source": [
    "# Save isocodes object for later use\n",
    "with open('objects_saved/isocodes.pkl', 'wb') as handle:\n",
    "  pickle.dump(isocodes, handle)"
   ]
  },
  {
   "cell_type": "code",
   "execution_count": null,
   "metadata": {},
   "outputs": [],
   "source": [
    "df.to_pickle(\"objects_saved/data.pkl\")"
   ]
  },
  {
   "cell_type": "code",
   "execution_count": null,
   "metadata": {},
   "outputs": [],
   "source": []
  }
 ],
 "metadata": {
  "kernelspec": {
   "display_name": "Python 3",
   "language": "python",
   "name": "python3"
  },
  "language_info": {
   "codemirror_mode": {
    "name": "ipython",
    "version": 3
   },
   "file_extension": ".py",
   "mimetype": "text/x-python",
   "name": "python",
   "nbconvert_exporter": "python",
   "pygments_lexer": "ipython3",
   "version": "3.7.3"
  }
 },
 "nbformat": 4,
 "nbformat_minor": 4
}
