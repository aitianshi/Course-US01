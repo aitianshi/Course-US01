{
 "cells": [
  {
   "cell_type": "code",
   "execution_count": null,
   "metadata": {},
   "outputs": [],
   "source": [
    "import pandas as pd\n",
    "import pickle\n",
    "import requests as rq\n",
    "import json\n",
    "import math"
   ]
  },
  {
   "cell_type": "code",
   "execution_count": null,
   "metadata": {},
   "outputs": [],
   "source": [
    "df = pd.read_pickle(\"data.pkl\")"
   ]
  },
  {
   "cell_type": "code",
   "execution_count": null,
   "metadata": {},
   "outputs": [],
   "source": [
    "with open('isocodes.pkl', 'rb') as handle:\n",
    "  isocodes = pickle.load(handle)\n",
    "isocodes"
   ]
  },
  {
   "cell_type": "code",
   "execution_count": null,
   "metadata": {},
   "outputs": [],
   "source": [
    "with open('yidaiyilu_api_data.json', 'r') as handle:\n",
    "  data = json.load(handle)"
   ]
  },
  {
   "cell_type": "code",
   "execution_count": null,
   "metadata": {},
   "outputs": [],
   "source": [
    "yidaiyilu_data = {}"
   ]
  },
  {
   "cell_type": "code",
   "execution_count": null,
   "metadata": {},
   "outputs": [],
   "source": [
    "# Request part\n",
    "# Need to add a proxy to get the request - template of request\n",
    "'''\n",
    "apiURL = \"https://eng.yidaiyilu.gov.cn/wcm.files/data/data-query-20170525.effix\"\n",
    "headers = {\n",
    "    'Accept': \"application/json, text/javascript, */*; q=0.01\",\n",
    "    'Referer': \"https://eng.yidaiyilu.gov.cn/dsjym.htm\",\n",
    "    'X-Requested-With': \"XMLHttpRequest\",\n",
    "    'Sec-Fetch-Mode': \"cors\",\n",
    "    'User-Agent': \"Mozilla/5.0 (X11; Linux x86_64) AppleWebKit/537.36 (KHTML, like Gecko) Chrome/77.0.3865.120 Safari/537.36\",\n",
    "    'X-Request-Id': \"1150;r=19560479\",\n",
    "    'cache-control': \"no-cache\",\n",
    "    'Cookie' : \"__jsluid_s=a0854fc5fcc55ebf2f523fc55744cae0; path=/; domain=.eng.yidaiyilu.gov.cn; Secure; HttpOnly; Expires=Tue, 13 Oct 2020 02:15:44 GMT;\"\n",
    "}\n",
    "\n",
    "resp = rq.get(apiURL, headers)\n",
    "        \n",
    "# Error handler\n",
    "if(resp.status_code != 200) :\n",
    "    print(\"STATUS_CODE ERROR\", resp.status_code, resp.text)\n",
    "else:\n",
    "    # Response handler\n",
    "    data = resp.json()\n",
    "    data[\"country_macro\"]\n",
    "'''"
   ]
  },
  {
   "cell_type": "code",
   "execution_count": null,
   "metadata": {},
   "outputs": [],
   "source": [
    "# 2015 year\n",
    "year = \"65d2ea03425887a717c435081cfc5dbb\" \n",
    "\n",
    "# useful indicators for scrapping\n",
    "indicators = {\n",
    "    \"9b688b5fbb441714ba73f4379e7b135d\": \"BRI GDP\",\n",
    "    \"5c4591fe4746333f6e7b66b13ad980a2\": \"BRI GDP growth rate\",\n",
    "    \"6d602224213550f3ee07477f1654f326\": \"BRI GDP p.c.\",\n",
    "    \"07f451a8c9b2006fb937d1eb268ac60b\": \"BRI Y.o.Y. GDP growth rate p.c.\",\n",
    "    \"c1329b4c01d4c08a68b8a280fb5a90ec\": \"BRI Agriculture value added per sector \",\n",
    "    \"f00273fa66d45147b2dd4dadd6275d32\": \"BRI Industry value added per sector \",\n",
    "    \"41fedd97a26d4782e531b5b4c67622b7\": \"BRI Services value added per sector \",\n",
    "    \"7b8d0a597b57bab793f428193eb899fe\": \"BRI Internet penetration rate (%)\",\n",
    "    \"2a048dbe6ff2ee51d07a6314752c87d7\": \"BRI Population density (/km2)\",\n",
    "    \"85bf6dab128029be54a3b1e643f0aa71\": \"BRI Percentage of Urban Population in Total Population\"\n",
    "}\n",
    "\n",
    "for key_country in data['country_macro']['term']['area']:\n",
    "    full_country_name = data['country_macro']['term']['area'][key_country]['full']\n",
    "    short_country_name = data['country_macro']['term']['area'][key_country]['short']\n",
    "\n",
    "    # Check if we care about this country\n",
    "    if full_country_name not in isocodes and short_country_name not in isocodes:\n",
    "        continue\n",
    "    else:\n",
    "        yidaiyilu_data[full_country_name] = {}\n",
    "    \n",
    "    for key_indic in data['country_macro']['data'][year][key_country]:\n",
    "        # Check if we care about this indicator\n",
    "        if key_indic not in indicators:\n",
    "            continue\n",
    "        value = data['country_macro']['data'][year][key_country][key_indic]\n",
    "        if value == '':\n",
    "            value = 0\n",
    "        yidaiyilu_data[full_country_name].update({indicators[key_indic] : value})"
   ]
  },
  {
   "cell_type": "code",
   "execution_count": null,
   "metadata": {},
   "outputs": [],
   "source": [
    "# We check how many countries data we have\n",
    "len(yidaiyilu_data)"
   ]
  },
  {
   "cell_type": "code",
   "execution_count": null,
   "metadata": {},
   "outputs": [],
   "source": [
    "yidaiyilu_data"
   ]
  },
  {
   "cell_type": "code",
   "execution_count": 272,
   "metadata": {},
   "outputs": [],
   "source": [
    "# Add data to df\n",
    "for country in yidaiyilu_data.keys():\n",
    "    global_rate = 0\n",
    "    for indic in yidaiyilu_data[country]:\n",
    "        if pd.isnull(df[indic].iloc[df['Country (according to CN Gov):'][df['Country (according to CN Gov):'] == country].index[0]-1]):\n",
    "            value = yidaiyilu_data[country][indic]\n",
    "            df[indic].iloc[df['Country (according to CN Gov):'][df['Country (according to CN Gov):'] == country].index[0]-1] = value\n",
    "            if \"sector\" in indicators[indic] :\n",
    "                global_rate += value\n",
    "        if global_rate > 0 :\n",
    "            df[\"Cumulative value added (numbers should reflect 100%)\"].iloc[df['Country (according to CN Gov):'][df['Country (according to CN Gov):'] == country].index[0]-1] = value"
   ]
  },
  {
   "cell_type": "code",
   "execution_count": 273,
   "metadata": {},
   "outputs": [],
   "source": [
    "# Get the data from HF source\n",
    "hf_data_source = pd.read_excel('index2019_data.xls', index_col=0)"
   ]
  },
  {
   "cell_type": "code",
   "execution_count": 274,
   "metadata": {},
   "outputs": [],
   "source": [
    "# Object with final data\n",
    "hf_data_keep = {}"
   ]
  },
  {
   "cell_type": "code",
   "execution_count": 275,
   "metadata": {},
   "outputs": [],
   "source": [
    "# Check if we have the right countries\n",
    "for my_country in isocodes:\n",
    "    for index, country in hf_data_source['Country Name'].items():\n",
    "        if country == my_country or country == isocodes[my_country]['other']:\n",
    "            hf_data_keep[my_country] = {\"index\" : index}"
   ]
  },
  {
   "cell_type": "code",
   "execution_count": 276,
   "metadata": {},
   "outputs": [],
   "source": [
    "for country in hf_data_keep:\n",
    "    rank = hf_data_source.loc[hf_data_keep[country]['index'],'World Rank']\n",
    "    scale = hf_data_source.loc[hf_data_keep[country]['index'],'2019 Score']\n",
    "           \n",
    "    hf_data_keep[country].update({\"rank\" : rank})\n",
    "    hf_data_keep[country].update({\"scale\" : scale})"
   ]
  },
  {
   "cell_type": "code",
   "execution_count": 277,
   "metadata": {},
   "outputs": [
    {
     "data": {
      "text/plain": [
       "{'Afghanistan': {'index': 1, 'rank': 152.0, 'scale': 51.5},\n",
       " 'Albania': {'index': 2, 'rank': 52.0, 'scale': 66.5},\n",
       " 'Armenia': {'index': 6, 'rank': 47.0, 'scale': 67.7},\n",
       " 'Azerbaijan': {'index': 9, 'rank': 60.0, 'scale': 65.4},\n",
       " 'Bahrain': {'index': 11, 'rank': 54.0, 'scale': 66.4},\n",
       " 'Bangladesh': {'index': 12, 'rank': 121.0, 'scale': 55.6},\n",
       " 'Belarus': {'index': 14, 'rank': 104.0, 'scale': 57.9},\n",
       " 'Bhutan': {'index': 18, 'rank': 74.0, 'scale': 62.9},\n",
       " 'Bosnia and Herzegovina': {'index': 20, 'rank': 83.0, 'scale': 61.9},\n",
       " 'Bulgaria': {'index': 23, 'rank': 37.0, 'scale': 69.0},\n",
       " 'Cambodia': {'index': 27, 'rank': 105.0, 'scale': 57.8},\n",
       " 'China': {'index': 34, 'rank': 100.0, 'scale': 58.4},\n",
       " 'Croatia': {'index': 41, 'rank': 86.0, 'scale': 61.4},\n",
       " 'Czech Republic': {'index': 44, 'rank': 23.0, 'scale': 73.7},\n",
       " 'Egypt': {'index': 50, 'rank': 144.0, 'scale': 52.5},\n",
       " 'Estonia': {'index': 54, 'rank': 15.0, 'scale': 76.6},\n",
       " 'France (Not BRI)': {'index': 58, 'rank': 71.0, 'scale': 63.8},\n",
       " 'Georgia': {'index': 61, 'rank': 16.0, 'scale': 75.9},\n",
       " 'Germany (not BRI)': {'index': 62, 'rank': 24.0, 'scale': 73.5},\n",
       " 'Hungary': {'index': 72, 'rank': 64.0, 'scale': 65.0},\n",
       " 'India': {'index': 74, 'rank': 129.0, 'scale': 55.2},\n",
       " 'Indonesia': {'index': 75, 'rank': 56.0, 'scale': 65.8},\n",
       " 'Iran': {'index': 76, 'rank': 155.0, 'scale': 51.1},\n",
       " 'Iraq': {'index': 77, 'rank': nan, 'scale': nan},\n",
       " 'Israel': {'index': 79, 'rank': 27.0, 'scale': 72.8},\n",
       " 'Jordan': {'index': 83, 'rank': 53.0, 'scale': 66.5},\n",
       " 'Kazakhstan': {'index': 84, 'rank': 59.0, 'scale': 65.4},\n",
       " 'Kuwait': {'index': 89, 'rank': 90.0, 'scale': 60.8},\n",
       " 'Laos': {'index': 91, 'rank': 110.0, 'scale': 57.4},\n",
       " 'Latvia': {'index': 92, 'rank': 35.0, 'scale': 70.4},\n",
       " 'Lebanon': {'index': 93, 'rank': 154.0, 'scale': 51.1},\n",
       " 'Lithuania': {'index': 98, 'rank': 21.0, 'scale': 74.2},\n",
       " 'Macedonia': {'index': 101, 'rank': 33.0, 'scale': 71.1},\n",
       " 'Malaysia': {'index': 104, 'rank': 22.0, 'scale': 74.0},\n",
       " 'Maldives': {'index': 105, 'rank': 141.0, 'scale': 53.2},\n",
       " 'Moldova': {'index': 112, 'rank': 97.0, 'scale': 59.1},\n",
       " 'Mongolia': {'index': 113, 'rank': 126.0, 'scale': 55.4},\n",
       " 'Montenegro': {'index': 114, 'rank': 92.0, 'scale': 60.5},\n",
       " 'Nepal': {'index': 118, 'rank': 136.0, 'scale': 53.8},\n",
       " 'Oman': {'index': 125, 'rank': 88.0, 'scale': 61.0},\n",
       " 'Pakistan': {'index': 126, 'rank': 131.0, 'scale': 55.0},\n",
       " 'Philippines': {'index': 131, 'rank': 70.0, 'scale': 63.8},\n",
       " 'Poland': {'index': 132, 'rank': 46.0, 'scale': 67.8},\n",
       " 'Qatar': {'index': 134, 'rank': 28.0, 'scale': 72.6},\n",
       " 'Romania': {'index': 135, 'rank': 42.0, 'scale': 68.6},\n",
       " 'Russia': {'index': 136, 'rank': 98.0, 'scale': 58.9},\n",
       " 'Saudi Arabia': {'index': 142, 'rank': 91.0, 'scale': 60.7},\n",
       " 'Serbia': {'index': 144, 'rank': 69.0, 'scale': 63.9},\n",
       " 'Singapore': {'index': 147, 'rank': 2.0, 'scale': 89.4},\n",
       " 'Slovakia': {'index': 148, 'rank': 65.0, 'scale': 65.0},\n",
       " 'Slovenia': {'index': 149, 'rank': 58.0, 'scale': 65.5},\n",
       " 'Sri Lanka': {'index': 153, 'rank': 115.0, 'scale': 56.4},\n",
       " 'Syria': {'index': 159, 'rank': nan, 'scale': nan},\n",
       " 'Tajikistan': {'index': 161, 'rank': 122.0, 'scale': 55.6},\n",
       " 'Thailiand': {'index': 163, 'rank': 43.0, 'scale': 68.3},\n",
       " 'The United Arab Emirates': {'index': 173, 'rank': 9.0, 'scale': 77.6},\n",
       " 'Turkey': {'index': 169, 'rank': 68.0, 'scale': 64.6},\n",
       " 'Turkmenistan': {'index': 170, 'rank': 164.0, 'scale': 48.4},\n",
       " 'United Kingdom (Not BRI)': {'index': 174, 'rank': 7.0, 'scale': 78.9},\n",
       " 'Ukraine': {'index': 172, 'rank': 147.0, 'scale': 52.3},\n",
       " 'Uzbekistan': {'index': 177, 'rank': 140.0, 'scale': 53.3},\n",
       " 'Vietnam': {'index': 180, 'rank': 128.0, 'scale': 55.3},\n",
       " 'Yemen': {'index': 181, 'rank': nan, 'scale': nan}}"
      ]
     },
     "execution_count": 277,
     "metadata": {},
     "output_type": "execute_result"
    }
   ],
   "source": [
    "hf_data_keep"
   ]
  },
  {
   "cell_type": "code",
   "execution_count": 278,
   "metadata": {},
   "outputs": [],
   "source": [
    "# Add data to df\n",
    "for country in hf_data_keep.keys():\n",
    "    if pd.isnull( df['HF Index of Economic Freedom (Scale: 1-100)'].iloc[list(isocodes).index(country)]):\n",
    "        df['HF Index of Economic Freedom (Scale: 1-100)'].iloc[list(isocodes).index(country)] = hf_data_keep[country]['scale']\n",
    "    if pd.isnull( df['Heritage Foundation Index of Economic Freedom (Global Ranking)'].iloc[list(isocodes).index(country)]):\n",
    "        df['Heritage Foundation Index of Economic Freedom (Global Ranking)'].iloc[list(isocodes).index(country)] = hf_data_keep[country]['rank']"
   ]
  },
  {
   "cell_type": "code",
   "execution_count": 279,
   "metadata": {},
   "outputs": [],
   "source": [
    "# Get the data from BTI source\n",
    "bti_data_source = pd.read_excel('BTI_2018_Scores.xlsx')"
   ]
  },
  {
   "cell_type": "code",
   "execution_count": 280,
   "metadata": {},
   "outputs": [],
   "source": [
    "# Object with final data\n",
    "bti_data_keep = {}"
   ]
  },
  {
   "cell_type": "code",
   "execution_count": 281,
   "metadata": {},
   "outputs": [],
   "source": [
    "# Check if we have the right countries\n",
    "for my_country in isocodes:\n",
    "    for index, country in bti_data_source['Regions:\\n1 | East-Central and Southeast Europe\\n2 | Latin America and the Caribbean\\n3 | West and Central Africa\\n4 | Middle East and North Africa\\n5 | South and East Africa\\n6 | Post-Soviet Eurasia\\n7 | Asia and Oceania'].items():\n",
    "        if country == my_country or country == isocodes[my_country]['other']:\n",
    "            bti_data_keep[my_country] = {\"index\" : index}"
   ]
  },
  {
   "cell_type": "code",
   "execution_count": 282,
   "metadata": {},
   "outputs": [],
   "source": [
    "for country in bti_data_keep:\n",
    "    rank = bti_data_source.loc[bti_data_keep[country]['index'],'  Ranking Status Index']\n",
    "    scale = bti_data_source.loc[bti_data_keep[country]['index'],'  S | Status Index']\n",
    "                               \n",
    "    bti_data_keep[country].update({\"rank\" : rank})\n",
    "    bti_data_keep[country].update({\"scale\" : scale})"
   ]
  },
  {
   "cell_type": "code",
   "execution_count": 283,
   "metadata": {},
   "outputs": [
    {
     "data": {
      "text/plain": [
       "{'Afghanistan': {'index': 0, 'rank': 121, 'scale': 2.954761904761905},\n",
       " 'Albania': {'index': 1, 'rank': 30, 'scale': 6.828571428571428},\n",
       " 'Armenia': {'index': 5, 'rank': 61, 'scale': 5.576190476190476},\n",
       " 'Azerbaijan': {'index': 6, 'rank': 100, 'scale': 4.127380952380952},\n",
       " 'Bahrain': {'index': 7, 'rank': 89, 'scale': 4.616666666666667},\n",
       " 'Bangladesh': {'index': 8, 'rank': 79, 'scale': 5.1119047619047615},\n",
       " 'Belarus': {'index': 9, 'rank': 86, 'scale': 4.720238095238095},\n",
       " 'Bhutan': {'index': 11, 'rank': 45, 'scale': 6.2476190476190485},\n",
       " 'Bosnia and Herzegovina': {'index': 13,\n",
       "  'rank': 43,\n",
       "  'scale': 6.282142857142857},\n",
       " 'Bulgaria': {'index': 16, 'rank': 17, 'scale': 7.8},\n",
       " 'Cambodia': {'index': 19, 'rank': 103, 'scale': 3.9976190476190476},\n",
       " 'China': {'index': 24, 'rank': 81, 'scale': 5.016666666666667},\n",
       " 'Croatia': {'index': 30, 'rank': 14, 'scale': 8.067857142857143},\n",
       " 'Czech Republic': {'index': 32, 'rank': 1, 'scale': 9.521428571428572},\n",
       " 'Egypt': {'index': 35, 'rank': 96, 'scale': 4.2785714285714285},\n",
       " 'Estonia': {'index': 38, 'rank': 1, 'scale': 9.517857142857142},\n",
       " 'Georgia': {'index': 40, 'rank': 42, 'scale': 6.417857142857143},\n",
       " 'Hungary': {'index': 46, 'rank': 18, 'scale': 7.432142857142857},\n",
       " 'India': {'index': 47, 'rank': 26, 'scale': 6.960714285714285},\n",
       " 'Indonesia': {'index': 48, 'rank': 45, 'scale': 6.25},\n",
       " 'Iran': {'index': 49, 'rank': 118, 'scale': 3.154761904761905},\n",
       " 'Iraq': {'index': 50, 'rank': 107, 'scale': 3.7464285714285714},\n",
       " 'Jordan': {'index': 52, 'rank': 72, 'scale': 5.219047619047618},\n",
       " 'Kazakhstan': {'index': 53, 'rank': 88, 'scale': 4.703571428571428},\n",
       " 'Kuwait': {'index': 56, 'rank': 60, 'scale': 5.607142857142858},\n",
       " 'Kyrgyzstan': {'index': 57, 'rank': 55, 'scale': 5.896428571428572},\n",
       " 'Laos': {'index': 58, 'rank': 106, 'scale': 3.8511904761904763},\n",
       " 'Latvia': {'index': 59, 'rank': 8, 'scale': 8.678571428571429},\n",
       " 'Lebanon': {'index': 60, 'rank': 74, 'scale': 5.147619047619047},\n",
       " 'Lithuania': {'index': 64, 'rank': 4, 'scale': 9.242857142857144},\n",
       " 'Macedonia': {'index': 65, 'rank': 31, 'scale': 6.760714285714286},\n",
       " 'Malaysia': {'index': 68, 'rank': 53, 'scale': 5.998809523809523},\n",
       " 'Moldova': {'index': 73, 'rank': 54, 'scale': 5.957142857142857},\n",
       " 'Mongolia': {'index': 74, 'rank': 34, 'scale': 6.592857142857143},\n",
       " 'Montenegro': {'index': 75, 'rank': 20, 'scale': 7.3464285714285715},\n",
       " 'Myanmar': {'index': 78, 'rank': 111, 'scale': 3.375},\n",
       " 'Nepal': {'index': 80, 'rank': 92, 'scale': 4.521428571428572},\n",
       " 'Oman': {'index': 85, 'rank': 93, 'scale': 4.428571428571429},\n",
       " 'Pakistan': {'index': 86, 'rank': 102, 'scale': 4.010714285714286},\n",
       " 'Philippines': {'index': 91, 'rank': 38, 'scale': 6.4714285714285715},\n",
       " 'Poland': {'index': 92, 'rank': 10, 'scale': 8.57857142857143},\n",
       " 'Qatar': {'index': 93, 'rank': 56, 'scale': 5.8845238095238095},\n",
       " 'Romania': {'index': 94, 'rank': 15, 'scale': 8.057142857142857},\n",
       " 'Russia': {'index': 95, 'rank': 70, 'scale': 5.310714285714285},\n",
       " 'Saudi Arabia': {'index': 97, 'rank': 97, 'scale': 4.265476190476191},\n",
       " 'Serbia': {'index': 99, 'rank': 19, 'scale': 7.4035714285714285},\n",
       " 'Singapore': {'index': 101, 'rank': 24, 'scale': 7.154761904761904},\n",
       " 'Slovakia': {'index': 102, 'rank': 9, 'scale': 8.585714285714285},\n",
       " 'Slovenia': {'index': 103, 'rank': 6, 'scale': 9.178571428571429},\n",
       " 'Sri Lanka': {'index': 108, 'rank': 33, 'scale': 6.614285714285714},\n",
       " 'Syria': {'index': 110, 'rank': 128, 'scale': 1.5714285714285714},\n",
       " 'Tajikistan': {'index': 112, 'rank': 115, 'scale': 3.3130952380952383},\n",
       " 'Thailiand': {'index': 114, 'rank': 87, 'scale': 4.714285714285714},\n",
       " 'The United Arab Emirates': {'index': 121,\n",
       "  'rank': 52,\n",
       "  'scale': 6.071428571428571},\n",
       " 'Turkey': {'index': 117, 'rank': 51, 'scale': 6.167857142857143},\n",
       " 'Turkmenistan': {'index': 118, 'rank': 119, 'scale': 3.1392857142857142},\n",
       " 'Ukraine': {'index': 120, 'rank': 36, 'scale': 6.539285714285715},\n",
       " 'Uzbekistan': {'index': 123, 'rank': 108, 'scale': 3.7261904761904763},\n",
       " 'Vietnam': {'index': 125, 'rank': 94, 'scale': 4.4071428571428575},\n",
       " 'Yemen': {'index': 126, 'rank': 127, 'scale': 1.7214285714285715}}"
      ]
     },
     "execution_count": 283,
     "metadata": {},
     "output_type": "execute_result"
    }
   ],
   "source": [
    "bti_data_keep"
   ]
  },
  {
   "cell_type": "code",
   "execution_count": 284,
   "metadata": {},
   "outputs": [],
   "source": [
    "# Add data to df\n",
    "for country in bti_data_keep.keys():\n",
    "    if pd.isnull( df['Bertelsmann Transformation index (BTI)'].iloc[list(isocodes).index(country)]):\n",
    "        df['Bertelsmann Transformation index (BTI)'].iloc[list(isocodes).index(country)] = bti_data_keep[country]['scale']\n",
    "    if pd.isnull( df['Bertelsmann Transformation index (BTI) - Ranking'].iloc[list(isocodes).index(country)]):\n",
    "        df['Bertelsmann Transformation index (BTI) - Ranking'].iloc[list(isocodes).index(country)] = bti_data_keep[country]['rank']"
   ]
  },
  {
   "cell_type": "code",
   "execution_count": 285,
   "metadata": {},
   "outputs": [],
   "source": [
    "# Save isocodes object for later use\n",
    "with open('isocodes.pkl', 'wb') as handle:\n",
    "  pickle.dump(isocodes, handle)"
   ]
  },
  {
   "cell_type": "code",
   "execution_count": 286,
   "metadata": {},
   "outputs": [],
   "source": [
    "df.to_pickle(\"data.pkl\")"
   ]
  },
  {
   "cell_type": "code",
   "execution_count": null,
   "metadata": {},
   "outputs": [],
   "source": []
  }
 ],
 "metadata": {
  "kernelspec": {
   "display_name": "Python 3",
   "language": "python",
   "name": "python3"
  },
  "language_info": {
   "codemirror_mode": {
    "name": "ipython",
    "version": 3
   },
   "file_extension": ".py",
   "mimetype": "text/x-python",
   "name": "python",
   "nbconvert_exporter": "python",
   "pygments_lexer": "ipython3",
   "version": "3.7.3"
  }
 },
 "nbformat": 4,
 "nbformat_minor": 4
}
