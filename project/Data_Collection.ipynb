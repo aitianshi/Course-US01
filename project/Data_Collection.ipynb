{
 "cells": [
  {
   "cell_type": "markdown",
   "metadata": {},
   "source": [
    "#### Import"
   ]
  },
  {
   "cell_type": "code",
   "execution_count": 1,
   "metadata": {},
   "outputs": [],
   "source": [
    "import json\n",
    "import pickle\n",
    "import pandas as pd\n",
    "import geopandas as gpd\n",
    "from shapely.geometry import Point"
   ]
  },
  {
   "cell_type": "markdown",
   "metadata": {},
   "source": [
    "#### Use Target file"
   ]
  },
  {
   "cell_type": "code",
   "execution_count": 7,
   "metadata": {},
   "outputs": [
    {
     "data": {
      "text/html": [
       "<div>\n",
       "<style scoped>\n",
       "    .dataframe tbody tr th:only-of-type {\n",
       "        vertical-align: middle;\n",
       "    }\n",
       "\n",
       "    .dataframe tbody tr th {\n",
       "        vertical-align: top;\n",
       "    }\n",
       "\n",
       "    .dataframe thead th {\n",
       "        text-align: right;\n",
       "    }\n",
       "</style>\n",
       "<table border=\"1\" class=\"dataframe\">\n",
       "  <thead>\n",
       "    <tr style=\"text-align: right;\">\n",
       "      <th></th>\n",
       "      <th></th>\n",
       "      <th>clean</th>\n",
       "      <th>smell</th>\n",
       "      <th>noise</th>\n",
       "      <th>town</th>\n",
       "      <th>district</th>\n",
       "      <th>longitude</th>\n",
       "      <th>latitude</th>\n",
       "    </tr>\n",
       "  </thead>\n",
       "  <tbody>\n",
       "    <tr>\n",
       "      <td>0</td>\n",
       "      <td>万寿社区居委会</td>\n",
       "      <td>3</td>\n",
       "      <td>0.0</td>\n",
       "      <td>0.0</td>\n",
       "      <td>盈浦街道</td>\n",
       "      <td>青浦区</td>\n",
       "      <td>121.104287016932</td>\n",
       "      <td>31.1558823799679</td>\n",
       "    </tr>\n",
       "    <tr>\n",
       "      <td>1</td>\n",
       "      <td>万泰花园第一居委会</td>\n",
       "      <td>3</td>\n",
       "      <td>1.0</td>\n",
       "      <td>0.0</td>\n",
       "      <td>七宝镇</td>\n",
       "      <td>闵行区</td>\n",
       "      <td>121.351529089795</td>\n",
       "      <td>31.144326843509</td>\n",
       "    </tr>\n",
       "    <tr>\n",
       "      <td>2</td>\n",
       "      <td>万科阳光苑居委会</td>\n",
       "      <td>2</td>\n",
       "      <td>0.0</td>\n",
       "      <td>0.0</td>\n",
       "      <td>吴泾镇</td>\n",
       "      <td>闵行区</td>\n",
       "      <td>121.468520387505</td>\n",
       "      <td>31.0422853979528</td>\n",
       "    </tr>\n",
       "    <tr>\n",
       "      <td>3</td>\n",
       "      <td>万豪居委会</td>\n",
       "      <td>3</td>\n",
       "      <td>0.0</td>\n",
       "      <td>0.0</td>\n",
       "      <td>长征镇</td>\n",
       "      <td>普陀区</td>\n",
       "      <td>121.367237458941</td>\n",
       "      <td>31.2407251034807</td>\n",
       "    </tr>\n",
       "    <tr>\n",
       "      <td>4</td>\n",
       "      <td>万里名轩社区居委会</td>\n",
       "      <td>2</td>\n",
       "      <td></td>\n",
       "      <td>0.0</td>\n",
       "      <td>万里街道</td>\n",
       "      <td>普陀区</td>\n",
       "      <td>121.403601417271</td>\n",
       "      <td>31.269155049366</td>\n",
       "    </tr>\n",
       "  </tbody>\n",
       "</table>\n",
       "</div>"
      ],
      "text/plain": [
       "             clean smell noise  town district         longitude  \\\n",
       "0    万寿社区居委会     3   0.0   0.0  盈浦街道      青浦区  121.104287016932   \n",
       "1  万泰花园第一居委会     3   1.0   0.0   七宝镇      闵行区  121.351529089795   \n",
       "2   万科阳光苑居委会     2   0.0   0.0   吴泾镇      闵行区  121.468520387505   \n",
       "3      万豪居委会     3   0.0   0.0   长征镇      普陀区  121.367237458941   \n",
       "4  万里名轩社区居委会     2         0.0  万里街道      普陀区  121.403601417271   \n",
       "\n",
       "           latitude  \n",
       "0  31.1558823799679  \n",
       "1   31.144326843509  \n",
       "2  31.0422853979528  \n",
       "3  31.2407251034807  \n",
       "4   31.269155049366  "
      ]
     },
     "execution_count": 7,
     "metadata": {},
     "output_type": "execute_result"
    }
   ],
   "source": [
    "with open(\"pickles/TARGET-communities-extract-wellbeing.pkl\", \"rb\") as handler:\n",
    "    target = pickle.load(handler)\n",
    "df_target = pd.DataFrame(columns=target[0], data=target[1:])\n",
    "df_target.head()"
   ]
  },
  {
   "cell_type": "markdown",
   "metadata": {},
   "source": [
    "#### Clean Target file"
   ]
  },
  {
   "cell_type": "code",
   "execution_count": 8,
   "metadata": {},
   "outputs": [],
   "source": [
    "# Delete rows which don't have the 3 target values\n",
    "df_target = df_target[(df_target['clean'] != '') & (df_target['smell'] != '') & (df_target['noise'] != '')]\n",
    "# Delete rows which don't have coordinates\n",
    "df_target = df_target[(df_target['longitude'] != '') & (df_target['latitude'] != '')]\n",
    "\n",
    "# Change the data type of the targets (string to float)\n",
    "df_target['clean'] = df_target['clean'].apply(lambda x: float(x))\n",
    "df_target['smell'] = df_target['smell'].apply(lambda x: float(x))\n",
    "df_target['noise'] = df_target['noise'].apply(lambda x: float(x))\n",
    "df_target['longitude'] = df_target['longitude'].apply(lambda x: float(x))\n",
    "df_target['latitude'] = df_target['latitude'].apply(lambda x: float(x))\n",
    "\n",
    "# Substract 1 to clean values --> Put the lowest clean score to 0 instead of 1 \n",
    "df_target['clean'] = df_target['clean'].apply(lambda x: x-1)"
   ]
  },
  {
   "cell_type": "markdown",
   "metadata": {},
   "source": [
    "#### Add geometry points to the df"
   ]
  },
  {
   "cell_type": "code",
   "execution_count": 11,
   "metadata": {},
   "outputs": [],
   "source": [
    "geometry = [Point(xy) for xy in zip(df_target['longitude'], df_target['latitude'])]\n",
    "df_target['geometry'] = geometry"
   ]
  },
  {
   "cell_type": "markdown",
   "metadata": {},
   "source": [
    "### ----------------------------------------------------------------------------------------------------------"
   ]
  },
  {
   "cell_type": "markdown",
   "metadata": {},
   "source": [
    "#### Use Neighborhood file"
   ]
  },
  {
   "cell_type": "code",
   "execution_count": 14,
   "metadata": {},
   "outputs": [],
   "source": [
    "# Get Shanghai neighborhood data\n",
    "df_neigh = pd.read_pickle(\"pickles/utseus-cendus-shanghai-neighborhoods.pk\")"
   ]
  },
  {
   "cell_type": "code",
   "execution_count": null,
   "metadata": {},
   "outputs": [],
   "source": [
    "df_neigh['ID'] = ''\n",
    "for i, row in df_neigh.iterrows():\n",
    "    df_neigh['ID'][i] = i"
   ]
  },
  {
   "cell_type": "markdown",
   "metadata": {},
   "source": [
    "#### Add the neighborhood to the corresponding target points"
   ]
  },
  {
   "cell_type": "code",
   "execution_count": 16,
   "metadata": {},
   "outputs": [],
   "source": [
    "df_target['neighborhood'] = ''\n",
    "# Get the number of target in each neighborhood\n",
    "for i, target in df_target.iterrows():\n",
    "    find = False\n",
    "    for j, neigh in df_neigh.iterrows():\n",
    "        if(target['geometry'].within(neigh['geometry'])):\n",
    "            df_target['neighborhood'][i] = j\n",
    "            find = True\n",
    "        if find:\n",
    "            break"
   ]
  },
  {
   "cell_type": "markdown",
   "metadata": {},
   "source": [
    "#### Add the number of targets in each neighbohood"
   ]
  },
  {
   "cell_type": "code",
   "execution_count": 17,
   "metadata": {},
   "outputs": [],
   "source": [
    "df_neigh['nb_target'] = 0\n",
    "for i, target in df_target.iterrows():\n",
    "    find = False\n",
    "    for j, neigh in df_neigh.iterrows():\n",
    "        if(target['geometry'].within(neigh['geometry'])):\n",
    "            df_neigh['nb_target'][j] = df_neigh['nb_target'][j]+1\n",
    "            find = True\n",
    "        if find:\n",
    "            break"
   ]
  },
  {
   "cell_type": "markdown",
   "metadata": {},
   "source": [
    "#### Keep only the neighborhood where there is at least 1 target"
   ]
  },
  {
   "cell_type": "code",
   "execution_count": 10,
   "metadata": {},
   "outputs": [],
   "source": [
    "df_neigh_ml = df_neigh[df_neigh['nb_target'] > 0]"
   ]
  },
  {
   "cell_type": "markdown",
   "metadata": {},
   "source": [
    "#### Calculate the surface per neighborhoods (km2)"
   ]
  },
  {
   "cell_type": "code",
   "execution_count": 3,
   "metadata": {},
   "outputs": [],
   "source": [
    "df_neigh_ml['surface'] = 0.0"
   ]
  },
  {
   "cell_type": "code",
   "execution_count": null,
   "metadata": {},
   "outputs": [],
   "source": [
    "import pyproj    \n",
    "import shapely\n",
    "import shapely.ops as ops\n",
    "from shapely.geometry.polygon import Polygon\n",
    "from functools import partial\n",
    "\n",
    "# 4326 ou 4479\n",
    "for i, neigh in df_neigh_ml.iterrows():\n",
    "    geom = neigh['geometry']\n",
    "    geom_area = ops.transform(\n",
    "        partial(\n",
    "            pyproj.transform,\n",
    "            pyproj.Proj(init='EPSG:4326'),\n",
    "            pyproj.Proj(\n",
    "                proj='aea',\n",
    "                lat_1=geom.bounds[1],\n",
    "                lat_2=geom.bounds[3])),\n",
    "                geom)\n",
    "    # Add the surface of the area (km2)\n",
    "    df_neigh_ml['surface'][neigh['ID']] = float(geom_area.area/1000000)"
   ]
  },
  {
   "cell_type": "markdown",
   "metadata": {},
   "source": [
    "### ----------------------------------------------------------------------------------------------------------"
   ]
  },
  {
   "cell_type": "markdown",
   "metadata": {},
   "source": [
    "#### Use Cendus POI file"
   ]
  },
  {
   "cell_type": "code",
   "execution_count": 5,
   "metadata": {},
   "outputs": [
    {
     "data": {
      "text/html": [
       "<div>\n",
       "<style scoped>\n",
       "    .dataframe tbody tr th:only-of-type {\n",
       "        vertical-align: middle;\n",
       "    }\n",
       "\n",
       "    .dataframe tbody tr th {\n",
       "        vertical-align: top;\n",
       "    }\n",
       "\n",
       "    .dataframe thead th {\n",
       "        text-align: right;\n",
       "    }\n",
       "</style>\n",
       "<table border=\"1\" class=\"dataframe\">\n",
       "  <thead>\n",
       "    <tr style=\"text-align: right;\">\n",
       "      <th></th>\n",
       "      <th>NAME</th>\n",
       "      <th>GPSX</th>\n",
       "      <th>GPSY</th>\n",
       "      <th>GBCODE</th>\n",
       "      <th>category</th>\n",
       "      <th>subcategory</th>\n",
       "      <th>subsubcategory</th>\n",
       "    </tr>\n",
       "  </thead>\n",
       "  <tbody>\n",
       "    <tr>\n",
       "      <td>0</td>\n",
       "      <td>2015年中国国际纱线(春夏)展览会</td>\n",
       "      <td>121.296368</td>\n",
       "      <td>31.188324</td>\n",
       "      <td>990000.0</td>\n",
       "      <td>Other points of interest</td>\n",
       "      <td>Natural Place Name Identification Points</td>\n",
       "      <td>Entrance name</td>\n",
       "    </tr>\n",
       "    <tr>\n",
       "      <td>1</td>\n",
       "      <td>勃兰登堡之声-2015家庭音乐会</td>\n",
       "      <td>121.473360</td>\n",
       "      <td>31.228923</td>\n",
       "      <td>990000.0</td>\n",
       "      <td>Other points of interest</td>\n",
       "      <td>Natural Place Name Identification Points</td>\n",
       "      <td>Entrance name</td>\n",
       "    </tr>\n",
       "    <tr>\n",
       "      <td>2</td>\n",
       "      <td>2015第十四届(上海)国际有机食品和绿色食品博览会</td>\n",
       "      <td>121.399378</td>\n",
       "      <td>31.205028</td>\n",
       "      <td>990000.0</td>\n",
       "      <td>Other points of interest</td>\n",
       "      <td>Natural Place Name Identification Points</td>\n",
       "      <td>Entrance name</td>\n",
       "    </tr>\n",
       "    <tr>\n",
       "      <td>3</td>\n",
       "      <td>星星火炬上海组委会</td>\n",
       "      <td>121.529628</td>\n",
       "      <td>31.271063</td>\n",
       "      <td>990000.0</td>\n",
       "      <td>Other points of interest</td>\n",
       "      <td>Natural Place Name Identification Points</td>\n",
       "      <td>Entrance name</td>\n",
       "    </tr>\n",
       "    <tr>\n",
       "      <td>4</td>\n",
       "      <td>2016VGT国际铁人三项赛</td>\n",
       "      <td>121.169185</td>\n",
       "      <td>31.282332</td>\n",
       "      <td>990000.0</td>\n",
       "      <td>Other points of interest</td>\n",
       "      <td>Natural Place Name Identification Points</td>\n",
       "      <td>Entrance name</td>\n",
       "    </tr>\n",
       "  </tbody>\n",
       "</table>\n",
       "</div>"
      ],
      "text/plain": [
       "                         NAME        GPSX       GPSY    GBCODE  \\\n",
       "0          2015年中国国际纱线(春夏)展览会  121.296368  31.188324  990000.0   \n",
       "1            勃兰登堡之声-2015家庭音乐会  121.473360  31.228923  990000.0   \n",
       "2  2015第十四届(上海)国际有机食品和绿色食品博览会  121.399378  31.205028  990000.0   \n",
       "3                   星星火炬上海组委会  121.529628  31.271063  990000.0   \n",
       "4              2016VGT国际铁人三项赛  121.169185  31.282332  990000.0   \n",
       "\n",
       "                   category                               subcategory  \\\n",
       "0  Other points of interest  Natural Place Name Identification Points   \n",
       "1  Other points of interest  Natural Place Name Identification Points   \n",
       "2  Other points of interest  Natural Place Name Identification Points   \n",
       "3  Other points of interest  Natural Place Name Identification Points   \n",
       "4  Other points of interest  Natural Place Name Identification Points   \n",
       "\n",
       "  subsubcategory  \n",
       "0  Entrance name  \n",
       "1  Entrance name  \n",
       "2  Entrance name  \n",
       "3  Entrance name  \n",
       "4  Entrance name  "
      ]
     },
     "execution_count": 5,
     "metadata": {},
     "output_type": "execute_result"
    }
   ],
   "source": [
    "df_poi = pd.read_pickle(\"pickles/utseus-cendus-poi.pk\")\n",
    "df_poi.head()"
   ]
  },
  {
   "cell_type": "markdown",
   "metadata": {},
   "source": [
    "#### Add geometry SHOP POI category points to the df"
   ]
  },
  {
   "cell_type": "code",
   "execution_count": 7,
   "metadata": {},
   "outputs": [
    {
     "name": "stderr",
     "output_type": "stream",
     "text": [
      "D:\\Programmes\\Anaconda\\lib\\site-packages\\ipykernel_launcher.py:6: SettingWithCopyWarning: \n",
      "A value is trying to be set on a copy of a slice from a DataFrame.\n",
      "Try using .loc[row_indexer,col_indexer] = value instead\n",
      "\n",
      "See the caveats in the documentation: http://pandas.pydata.org/pandas-docs/stable/user_guide/indexing.html#returning-a-view-versus-a-copy\n",
      "  \n"
     ]
    },
    {
     "data": {
      "text/plain": [
       "190933"
      ]
     },
     "execution_count": 7,
     "metadata": {},
     "output_type": "execute_result"
    }
   ],
   "source": [
    "shop_cat = ['Vehicle Sales Shop', 'Supermarket Convenience Store', 'Market', 'Home Building Materials Retail Shop',\n",
    "            'Clothing, shoes and leather retail store', 'Food-beverage and tobacco products retail stores', \n",
    "            'Integrated market', 'Characteristic Commercial Street', 'Flower, Bird, Insect and Fish Market']\n",
    "\n",
    "df_shop = df_poi[df_poi.subcategory.isin(shop_cat)]\n",
    "\n",
    "geometry = [Point(xy) for xy in zip(df_shop['GPSX'], df_shop['GPSY'])]\n",
    "df_shop['geometry'] = geometry\n",
    "\n",
    "len(df_shop)"
   ]
  },
  {
   "cell_type": "markdown",
   "metadata": {},
   "source": [
    "#### Add geometry RESTAURANT POI category points to the df"
   ]
  },
  {
   "cell_type": "code",
   "execution_count": 8,
   "metadata": {},
   "outputs": [
    {
     "name": "stderr",
     "output_type": "stream",
     "text": [
      "D:\\Programmes\\Anaconda\\lib\\site-packages\\ipykernel_launcher.py:3: SettingWithCopyWarning: \n",
      "A value is trying to be set on a copy of a slice from a DataFrame.\n",
      "Try using .loc[row_indexer,col_indexer] = value instead\n",
      "\n",
      "See the caveats in the documentation: http://pandas.pydata.org/pandas-docs/stable/user_guide/indexing.html#returning-a-view-versus-a-copy\n",
      "  This is separate from the ipykernel package so we can avoid doing imports until\n"
     ]
    },
    {
     "data": {
      "text/plain": [
       "227785"
      ]
     },
     "execution_count": 8,
     "metadata": {},
     "output_type": "execute_result"
    }
   ],
   "source": [
    "df_rest = df_poi[df_poi['category'] == \"Restaurant\"]\n",
    "\n",
    "geometry = [Point(xy) for xy in zip(df_rest['GPSX'], df_rest['GPSY'])]\n",
    "df_rest['geometry'] = geometry\n",
    "\n",
    "len(df_rest)"
   ]
  },
  {
   "cell_type": "markdown",
   "metadata": {},
   "source": [
    "#### Add geometry ENTERTAINEMENT POI category points to the df"
   ]
  },
  {
   "cell_type": "code",
   "execution_count": 9,
   "metadata": {},
   "outputs": [
    {
     "name": "stderr",
     "output_type": "stream",
     "text": [
      "D:\\Programmes\\Anaconda\\lib\\site-packages\\ipykernel_launcher.py:5: SettingWithCopyWarning: \n",
      "A value is trying to be set on a copy of a slice from a DataFrame.\n",
      "Try using .loc[row_indexer,col_indexer] = value instead\n",
      "\n",
      "See the caveats in the documentation: http://pandas.pydata.org/pandas-docs/stable/user_guide/indexing.html#returning-a-view-versus-a-copy\n",
      "  \"\"\"\n"
     ]
    },
    {
     "data": {
      "text/plain": [
       "14137"
      ]
     },
     "execution_count": 9,
     "metadata": {},
     "output_type": "execute_result"
    }
   ],
   "source": [
    "entert_cat = ['Stadium and Gymnasium', 'Movie theater', 'Sports and leisure']\n",
    "entert_subcat = ['Song and dance hall/nightclub', 'Game Hall/Video City', 'Entertainment place', 'KTV', 'Bar']\n",
    "df_entert = df_poi[df_poi.subcategory.isin(entert_cat) | df_poi.subsubcategory.isin(entert_subcat)]\n",
    "geometry = [Point(xy) for xy in zip(df_entert['GPSX'], df_entert['GPSY'])]\n",
    "df_entert['geometry'] = geometry\n",
    "len(df_entert)"
   ]
  },
  {
   "cell_type": "markdown",
   "metadata": {},
   "source": [
    "#### Add TRANSPORT POI total number to neighborhoods"
   ]
  },
  {
   "cell_type": "code",
   "execution_count": 8,
   "metadata": {},
   "outputs": [],
   "source": [
    "df_neigh_ml.loc[:,'nb_transp'] = 0"
   ]
  },
  {
   "cell_type": "code",
   "execution_count": null,
   "metadata": {},
   "outputs": [],
   "source": [
    "for j, poi in df_transp.iterrows():\n",
    "    find = False\n",
    "    for i, neigh in df_neigh_ml.iterrows():\n",
    "        if poi['geometry'].within(neigh['geometry']):\n",
    "            df_neigh_ml['nb_transp'][neigh['ID']] += 1\n",
    "            find = True\n",
    "        if find:\n",
    "            break"
   ]
  },
  {
   "cell_type": "markdown",
   "metadata": {},
   "source": [
    "#### Add RESTAURANT POI total number to neighborhoods"
   ]
  },
  {
   "cell_type": "code",
   "execution_count": 10,
   "metadata": {},
   "outputs": [],
   "source": [
    "df_neigh_ml['nb_rest'] = 0"
   ]
  },
  {
   "cell_type": "code",
   "execution_count": null,
   "metadata": {},
   "outputs": [],
   "source": [
    "for j, poi in df_rest.iterrows():\n",
    "    find = False\n",
    "    for i, neigh in df_neigh_ml.iterrows():\n",
    "        if poi['geometry'].within(neigh['geometry']):\n",
    "            df_neigh_ml['nb_rest'][neigh['ID']] += 1\n",
    "            find = True\n",
    "        if find:\n",
    "            break"
   ]
  },
  {
   "cell_type": "markdown",
   "metadata": {},
   "source": [
    "#### Add SHOP POI total number to neighborhoods"
   ]
  },
  {
   "cell_type": "code",
   "execution_count": 12,
   "metadata": {},
   "outputs": [],
   "source": [
    "df_neigh_ml['nb_shop'] = 0"
   ]
  },
  {
   "cell_type": "code",
   "execution_count": null,
   "metadata": {},
   "outputs": [],
   "source": [
    "for j, poi in df_shop.iterrows():\n",
    "    find = False\n",
    "    for i, neigh in df_neigh_ml.iterrows():\n",
    "        if poi['geometry'].within(neigh['geometry']):\n",
    "            df_neigh_ml['nb_shop'][neigh['ID']] += 1\n",
    "            find = True\n",
    "        if find:\n",
    "            break"
   ]
  },
  {
   "cell_type": "markdown",
   "metadata": {},
   "source": [
    "#### Add ENTERTAINEMENT POI total number to neighborhoods"
   ]
  },
  {
   "cell_type": "code",
   "execution_count": 15,
   "metadata": {},
   "outputs": [],
   "source": [
    "df_neigh_ml['nb_entertainement'] = 0"
   ]
  },
  {
   "cell_type": "code",
   "execution_count": null,
   "metadata": {},
   "outputs": [],
   "source": [
    "for j, poi in df_entert.iterrows():\n",
    "    find = False\n",
    "    for i, neigh in df_neigh_ml.iterrows():\n",
    "        if poi['geometry'].within(neigh['geometry']):\n",
    "            df_neigh_ml['nb_entertainement'][neigh['ID']] += 1\n",
    "            find = True\n",
    "        if find:\n",
    "            break"
   ]
  },
  {
   "cell_type": "markdown",
   "metadata": {},
   "source": [
    "### --------------------------------------------------------------------------------------------------------"
   ]
  },
  {
   "cell_type": "markdown",
   "metadata": {},
   "source": [
    "#### Use Taxi file"
   ]
  },
  {
   "cell_type": "code",
   "execution_count": 16,
   "metadata": {},
   "outputs": [
    {
     "name": "stdout",
     "output_type": "stream",
     "text": [
      "1528047\n"
     ]
    },
    {
     "data": {
      "text/html": [
       "<div>\n",
       "<style scoped>\n",
       "    .dataframe tbody tr th:only-of-type {\n",
       "        vertical-align: middle;\n",
       "    }\n",
       "\n",
       "    .dataframe tbody tr th {\n",
       "        vertical-align: top;\n",
       "    }\n",
       "\n",
       "    .dataframe thead th {\n",
       "        text-align: right;\n",
       "    }\n",
       "</style>\n",
       "<table border=\"1\" class=\"dataframe\">\n",
       "  <thead>\n",
       "    <tr style=\"text-align: right;\">\n",
       "      <th></th>\n",
       "      <th>taxi_id</th>\n",
       "      <th>time</th>\n",
       "      <th>status</th>\n",
       "      <th>lon</th>\n",
       "      <th>lat</th>\n",
       "      <th>speed</th>\n",
       "      <th>geometry</th>\n",
       "    </tr>\n",
       "  </thead>\n",
       "  <tbody>\n",
       "    <tr>\n",
       "      <td>0</td>\n",
       "      <td>24029</td>\n",
       "      <td>2015-04-11</td>\n",
       "      <td>0</td>\n",
       "      <td>121.421822</td>\n",
       "      <td>31.212080</td>\n",
       "      <td>19.6</td>\n",
       "      <td>POINT (121.42653 31.21023)</td>\n",
       "    </tr>\n",
       "    <tr>\n",
       "      <td>1</td>\n",
       "      <td>24029</td>\n",
       "      <td>2015-04-11</td>\n",
       "      <td>0</td>\n",
       "      <td>121.423275</td>\n",
       "      <td>31.212148</td>\n",
       "      <td>15.8</td>\n",
       "      <td>POINT (121.42798 31.21029)</td>\n",
       "    </tr>\n",
       "    <tr>\n",
       "      <td>2</td>\n",
       "      <td>24029</td>\n",
       "      <td>2015-04-11</td>\n",
       "      <td>0</td>\n",
       "      <td>121.424295</td>\n",
       "      <td>31.212597</td>\n",
       "      <td>11.5</td>\n",
       "      <td>POINT (121.42900 31.21074)</td>\n",
       "    </tr>\n",
       "    <tr>\n",
       "      <td>3</td>\n",
       "      <td>24029</td>\n",
       "      <td>2015-04-11</td>\n",
       "      <td>0</td>\n",
       "      <td>121.426872</td>\n",
       "      <td>31.215222</td>\n",
       "      <td>6.5</td>\n",
       "      <td>POINT (121.43157 31.21337)</td>\n",
       "    </tr>\n",
       "    <tr>\n",
       "      <td>4</td>\n",
       "      <td>24029</td>\n",
       "      <td>2015-04-11</td>\n",
       "      <td>0</td>\n",
       "      <td>121.427138</td>\n",
       "      <td>31.215365</td>\n",
       "      <td>6.7</td>\n",
       "      <td>POINT (121.43184 31.21351)</td>\n",
       "    </tr>\n",
       "  </tbody>\n",
       "</table>\n",
       "</div>"
      ],
      "text/plain": [
       "   taxi_id        time  status         lon        lat  speed  \\\n",
       "0    24029  2015-04-11       0  121.421822  31.212080   19.6   \n",
       "1    24029  2015-04-11       0  121.423275  31.212148   15.8   \n",
       "2    24029  2015-04-11       0  121.424295  31.212597   11.5   \n",
       "3    24029  2015-04-11       0  121.426872  31.215222    6.5   \n",
       "4    24029  2015-04-11       0  121.427138  31.215365    6.7   \n",
       "\n",
       "                     geometry  \n",
       "0  POINT (121.42653 31.21023)  \n",
       "1  POINT (121.42798 31.21029)  \n",
       "2  POINT (121.42900 31.21074)  \n",
       "3  POINT (121.43157 31.21337)  \n",
       "4  POINT (121.43184 31.21351)  "
      ]
     },
     "execution_count": 16,
     "metadata": {},
     "output_type": "execute_result"
    }
   ],
   "source": [
    "df_taxi = pd.read_pickle(\"pickles/utseus-shanghai-taxi-speed-position.pk\")\n",
    "print(len(df_taxi))\n",
    "df_taxi.head()"
   ]
  },
  {
   "cell_type": "code",
   "execution_count": 17,
   "metadata": {},
   "outputs": [],
   "source": [
    "taxi_list = []\n",
    "df_neigh_ml['nb_taxi'] = 0"
   ]
  },
  {
   "cell_type": "markdown",
   "metadata": {},
   "source": [
    "#### Add a unique taxi in its neighbohood"
   ]
  },
  {
   "cell_type": "code",
   "execution_count": 43,
   "metadata": {},
   "outputs": [],
   "source": [
    "for nb in df_taxi.taxi_id.unique():\n",
    "    if nb in taxi_list:\n",
    "        continue\n",
    "    find = False\n",
    "    for i, neigh in df_neigh_ml.iterrows():\n",
    "        if(df_taxi[df_taxi['taxi_id'] == nb]['geometry'].iloc[0].within(neigh['geometry'])):\n",
    "            df_neigh_ml['nb_taxi'][neigh['ID']] += 1\n",
    "            find = True\n",
    "        if find:\n",
    "            taxi_list.append(nb)\n",
    "            break"
   ]
  },
  {
   "cell_type": "markdown",
   "metadata": {},
   "source": [
    "### --------------------------------------------------------------------------------------------------------"
   ]
  },
  {
   "cell_type": "markdown",
   "metadata": {},
   "source": [
    "#### Calculate the number of all POI/Taxi per km inside each neighborhood"
   ]
  },
  {
   "cell_type": "code",
   "execution_count": 25,
   "metadata": {},
   "outputs": [],
   "source": [
    "df_neigh_ml['nb_taxi_km'] = df_neigh_ml['nb_taxi']/df_neigh_ml['surface']\n",
    "df_neigh_ml['nb_transp_km'] = df_neigh_ml['nb_transp']/df_neigh_ml['surface']\n",
    "df_neigh_ml['nb_shop_km'] = df_neigh_ml['nb_shop']/df_neigh_ml['surface']\n",
    "df_neigh_ml['nb_rest_km'] = df_neigh_ml['nb_rest']/df_neigh_ml['surface']\n",
    "df_neigh_ml['nb_entertainement_km'] = df_neigh_ml['nb_entertainement']/df_neigh_ml['surface']"
   ]
  },
  {
   "cell_type": "markdown",
   "metadata": {},
   "source": [
    "### --------------------------------------------------------------------------------------------------------"
   ]
  },
  {
   "cell_type": "code",
   "execution_count": 22,
   "metadata": {},
   "outputs": [],
   "source": [
    "import pickle\n",
    "with open('df_neighborhood.pkl', 'wb') as handle:\n",
    "    pickle.dump(df_neigh_ml, handle)\n",
    "with open('df_target.pkl', 'wb') as handle:\n",
    "    pickle.dump(df_target, handle)"
   ]
  },
  {
   "cell_type": "code",
   "execution_count": 15,
   "metadata": {},
   "outputs": [],
   "source": [
    "import pickle\n",
    "with open('df_neighborhood.pkl', 'rb') as handle:\n",
    "    df_neigh_ml = pickle.load(handle)\n",
    "with open('df_target.pkl', 'rb') as handle:\n",
    "    df_target = pickle.load(handle)"
   ]
  },
  {
   "cell_type": "markdown",
   "metadata": {},
   "source": [
    "#### Find the targets mean in each neighborhood"
   ]
  },
  {
   "cell_type": "code",
   "execution_count": 27,
   "metadata": {},
   "outputs": [],
   "source": [
    "df_neigh_ml['smell_mean'] = df_neigh_ml['ID'].apply(lambda x: df_target[df_target['neighborhood'] == x]['smell'].mean())\n",
    "df_neigh_ml['noise_mean'] = df_neigh_ml['ID'].apply(lambda x: df_target[df_target['neighborhood'] == x]['noise'].mean())\n",
    "df_neigh_ml['clean_mean'] = df_neigh_ml['ID'].apply(lambda x: df_target[df_target['neighborhood'] == x]['clean'].mean())"
   ]
  },
  {
   "cell_type": "markdown",
   "metadata": {},
   "source": [
    "#### Create target classes depending on the mean value in each neighborhood"
   ]
  },
  {
   "cell_type": "code",
   "execution_count": 27,
   "metadata": {},
   "outputs": [
    {
     "data": {
      "text/html": [
       "<div>\n",
       "<style scoped>\n",
       "    .dataframe tbody tr th:only-of-type {\n",
       "        vertical-align: middle;\n",
       "    }\n",
       "\n",
       "    .dataframe tbody tr th {\n",
       "        vertical-align: top;\n",
       "    }\n",
       "\n",
       "    .dataframe thead th {\n",
       "        text-align: right;\n",
       "    }\n",
       "</style>\n",
       "<table border=\"1\" class=\"dataframe\">\n",
       "  <thead>\n",
       "    <tr style=\"text-align: right;\">\n",
       "      <th></th>\n",
       "      <th>NAME</th>\n",
       "      <th>TYPE</th>\n",
       "      <th>geometry</th>\n",
       "      <th>ID</th>\n",
       "      <th>nb_target</th>\n",
       "      <th>happiness</th>\n",
       "      <th>nb_taxi</th>\n",
       "      <th>surface</th>\n",
       "      <th>nb_transp</th>\n",
       "      <th>nb_rest</th>\n",
       "      <th>...</th>\n",
       "      <th>noise_mean</th>\n",
       "      <th>clean_mean</th>\n",
       "      <th>clean_cat</th>\n",
       "      <th>smell_cat</th>\n",
       "      <th>noise_cat</th>\n",
       "      <th>nb_taxi_km</th>\n",
       "      <th>nb_transp_km</th>\n",
       "      <th>nb_shop_km</th>\n",
       "      <th>nb_rest_km</th>\n",
       "      <th>nb_entertainement_km</th>\n",
       "    </tr>\n",
       "  </thead>\n",
       "  <tbody>\n",
       "    <tr>\n",
       "      <td>5</td>\n",
       "      <td>???</td>\n",
       "      <td>2</td>\n",
       "      <td>POLYGON Z ((121.36179 30.80039 0.00000, 121.36...</td>\n",
       "      <td>5</td>\n",
       "      <td>1</td>\n",
       "      <td>89.166667</td>\n",
       "      <td>3</td>\n",
       "      <td>43.863191</td>\n",
       "      <td>1622</td>\n",
       "      <td>1131</td>\n",
       "      <td>...</td>\n",
       "      <td>0.0</td>\n",
       "      <td>2.0</td>\n",
       "      <td>Clean</td>\n",
       "      <td>Not smelly</td>\n",
       "      <td>Not noisy</td>\n",
       "      <td>0.068394</td>\n",
       "      <td>36.978614</td>\n",
       "      <td>26.582653</td>\n",
       "      <td>25.784718</td>\n",
       "      <td>1.36789</td>\n",
       "    </tr>\n",
       "  </tbody>\n",
       "</table>\n",
       "<p>1 rows × 23 columns</p>\n",
       "</div>"
      ],
      "text/plain": [
       "  NAME TYPE                                           geometry ID  nb_target  \\\n",
       "5  ???    2  POLYGON Z ((121.36179 30.80039 0.00000, 121.36...  5          1   \n",
       "\n",
       "   happiness  nb_taxi    surface  nb_transp  nb_rest  ...  noise_mean  \\\n",
       "5  89.166667        3  43.863191       1622     1131  ...         0.0   \n",
       "\n",
       "   clean_mean  clean_cat   smell_cat  noise_cat nb_taxi_km nb_transp_km  \\\n",
       "5         2.0      Clean  Not smelly  Not noisy   0.068394    36.978614   \n",
       "\n",
       "  nb_shop_km  nb_rest_km  nb_entertainement_km  \n",
       "5  26.582653   25.784718               1.36789  \n",
       "\n",
       "[1 rows x 23 columns]"
      ]
     },
     "execution_count": 27,
     "metadata": {},
     "output_type": "execute_result"
    }
   ],
   "source": [
    "df_neigh_ml['clean_cat'] = df_neigh_ml['clean_mean'].apply(lambda x:\"Very dirty\" if x < 0.75 else \n",
    "                                                                    \"Dirty\" if (x >= 0.75 and x < 1.5) else\n",
    "                                                                    \"Clean\" if (x >= 1.5 and x < 2.25) else\n",
    "                                                                    \"Very clean\")\n",
    "\n",
    "df_neigh_ml['smell_cat'] = df_neigh_ml['smell_mean'].apply(lambda x: \"Smelly\" if x >= 0.5 else \"Not smelly\")\n",
    "\n",
    "df_neigh_ml['noise_cat'] = df_neigh_ml['noise_mean'].apply(lambda x: \"Noisy\" if x >= 0.5 else \"Not noisy\")\n",
    "\n",
    "df_neigh_ml.head(1)"
   ]
  },
  {
   "cell_type": "markdown",
   "metadata": {},
   "source": [
    "#### Tried to see the trend lines"
   ]
  },
  {
   "cell_type": "code",
   "execution_count": 3,
   "metadata": {},
   "outputs": [],
   "source": [
    "from matplotlib import pyplot as plt\n",
    "%matplotlib inline\n",
    "import seaborn as sns"
   ]
  },
  {
   "cell_type": "code",
   "execution_count": 4,
   "metadata": {},
   "outputs": [],
   "source": [
    "sns.set()"
   ]
  },
  {
   "cell_type": "code",
   "execution_count": 15,
   "metadata": {},
   "outputs": [
    {
     "data": {
      "text/plain": [
       "<seaborn.axisgrid.FacetGrid at 0x22c99161ac8>"
      ]
     },
     "execution_count": 15,
     "metadata": {},
     "output_type": "execute_result"
    },
    {
     "data": {
      "image/png": "[encoded data removed]",
      "text/plain": [
       "<Figure size 720x720 with 1 Axes>"
      ]
     },
     "metadata": {},
     "output_type": "display_data"
    }
   ],
   "source": [
    "sns.lmplot(x='nb_shop', y='noise_mean', data=df_neigh_ml, height=10)\n",
    "#plt.yscale('log')\n",
    "#plt.xscale('log')"
   ]
  },
  {
   "cell_type": "markdown",
   "metadata": {},
   "source": [
    "### ----------------------------------------------------------------------------------------------------"
   ]
  },
  {
   "cell_type": "markdown",
   "metadata": {},
   "source": [
    "#### Use Real Estate file  --- Average meter_square_price for each neighborhood --- Not used in ML"
   ]
  },
  {
   "cell_type": "code",
   "execution_count": 6,
   "metadata": {},
   "outputs": [],
   "source": [
    "with open('pickles/utseus-anjuke-real-estate.pk', 'rb') as handle:\n",
    "    real_estate = pickle.load(handle)"
   ]
  },
  {
   "cell_type": "code",
   "execution_count": 7,
   "metadata": {},
   "outputs": [
    {
     "data": {
      "text/html": [
       "<div>\n",
       "<style scoped>\n",
       "    .dataframe tbody tr th:only-of-type {\n",
       "        vertical-align: middle;\n",
       "    }\n",
       "\n",
       "    .dataframe tbody tr th {\n",
       "        vertical-align: top;\n",
       "    }\n",
       "\n",
       "    .dataframe thead th {\n",
       "        text-align: right;\n",
       "    }\n",
       "</style>\n",
       "<table border=\"1\" class=\"dataframe\">\n",
       "  <thead>\n",
       "    <tr style=\"text-align: right;\">\n",
       "      <th></th>\n",
       "      <th>id</th>\n",
       "      <th>address</th>\n",
       "      <th>longitude</th>\n",
       "      <th>latitude</th>\n",
       "      <th>bedroom</th>\n",
       "      <th>room</th>\n",
       "      <th>surface</th>\n",
       "      <th>price</th>\n",
       "      <th>onesquaremeter</th>\n",
       "      <th>tags</th>\n",
       "      <th>district</th>\n",
       "      <th>neighborhood</th>\n",
       "      <th>done</th>\n",
       "    </tr>\n",
       "  </thead>\n",
       "  <tbody>\n",
       "    <tr>\n",
       "      <td>0</td>\n",
       "      <td>A888553302</td>\n",
       "      <td>宝山-大场  金地艺境(宝山)(555弄)</td>\n",
       "      <td>121.34392735101</td>\n",
       "      <td>31.3193561718426</td>\n",
       "      <td>2</td>\n",
       "      <td>2</td>\n",
       "      <td>30.0</td>\n",
       "      <td>1160000.0</td>\n",
       "      <td>38666.6666666667</td>\n",
       "      <td>金地开发 **首推 地铁首通 价格首降 配套就是你能想到的</td>\n",
       "      <td>baoshan</td>\n",
       "      <td>dachang</td>\n",
       "      <td>1</td>\n",
       "    </tr>\n",
       "    <tr>\n",
       "      <td>1</td>\n",
       "      <td>A888376847</td>\n",
       "      <td>宝山-大场  骏华苑</td>\n",
       "      <td>121.407324884273</td>\n",
       "      <td>31.3023675431043</td>\n",
       "      <td>1</td>\n",
       "      <td>1</td>\n",
       "      <td>38.0</td>\n",
       "      <td>1950000.0</td>\n",
       "      <td>51315.7894736842</td>\n",
       "      <td>龙璟公馆嘉兴市近万达广场，北大附属实验校区，地铁沿线高铁站旁</td>\n",
       "      <td>baoshan</td>\n",
       "      <td>dachang</td>\n",
       "      <td>1</td>\n",
       "    </tr>\n",
       "    <tr>\n",
       "      <td>2</td>\n",
       "      <td>A885088482</td>\n",
       "      <td>宝山-大场  琉樽尚品(255弄)</td>\n",
       "      <td>121.397487377268</td>\n",
       "      <td>31.2908711986862</td>\n",
       "      <td>3</td>\n",
       "      <td>2</td>\n",
       "      <td>92.0</td>\n",
       "      <td>5350000.0</td>\n",
       "      <td>58152.1739130435</td>\n",
       "      <td>92+7平书房，婚房装修30万！满2年税少11万！再降20万</td>\n",
       "      <td>baoshan</td>\n",
       "      <td>dachang</td>\n",
       "      <td>1</td>\n",
       "    </tr>\n",
       "    <tr>\n",
       "      <td>3</td>\n",
       "      <td>A885392981</td>\n",
       "      <td>宝山-大场  琉樽尚品（255弄）</td>\n",
       "      <td>121.397487377268</td>\n",
       "      <td>31.2908711986862</td>\n",
       "      <td>2</td>\n",
       "      <td>2</td>\n",
       "      <td>68.0</td>\n",
       "      <td>4350000.0</td>\n",
       "      <td>63970.5882352941</td>\n",
       "      <td>中环景观，电梯复式，豪装45万全送，拎包入住，小格局大设计，</td>\n",
       "      <td>baoshan</td>\n",
       "      <td>dachang</td>\n",
       "      <td>1</td>\n",
       "    </tr>\n",
       "    <tr>\n",
       "      <td>4</td>\n",
       "      <td>A885831305</td>\n",
       "      <td>宝山-大场  美好家小区</td>\n",
       "      <td>121.421397234518</td>\n",
       "      <td>31.302658471085</td>\n",
       "      <td>2</td>\n",
       "      <td>2</td>\n",
       "      <td>80.0</td>\n",
       "      <td>4000000.0</td>\n",
       "      <td>50000.0</td>\n",
       "      <td>美好家南北通精装2房板式房型采光好随时好看带天井</td>\n",
       "      <td>baoshan</td>\n",
       "      <td>dachang</td>\n",
       "      <td>1</td>\n",
       "    </tr>\n",
       "  </tbody>\n",
       "</table>\n",
       "</div>"
      ],
      "text/plain": [
       "           id                address         longitude          latitude  \\\n",
       "0  A888553302  宝山-大场  金地艺境(宝山)(555弄)   121.34392735101  31.3193561718426   \n",
       "1  A888376847             宝山-大场  骏华苑  121.407324884273  31.3023675431043   \n",
       "2  A885088482      宝山-大场  琉樽尚品(255弄)  121.397487377268  31.2908711986862   \n",
       "3  A885392981      宝山-大场  琉樽尚品（255弄）  121.397487377268  31.2908711986862   \n",
       "4  A885831305           宝山-大场  美好家小区  121.421397234518   31.302658471085   \n",
       "\n",
       "  bedroom room surface      price    onesquaremeter  \\\n",
       "0       2    2    30.0  1160000.0  38666.6666666667   \n",
       "1       1    1    38.0  1950000.0  51315.7894736842   \n",
       "2       3    2    92.0  5350000.0  58152.1739130435   \n",
       "3       2    2    68.0  4350000.0  63970.5882352941   \n",
       "4       2    2    80.0  4000000.0           50000.0   \n",
       "\n",
       "                             tags district neighborhood done  \n",
       "0   金地开发 **首推 地铁首通 价格首降 配套就是你能想到的  baoshan      dachang    1  \n",
       "1  龙璟公馆嘉兴市近万达广场，北大附属实验校区，地铁沿线高铁站旁  baoshan      dachang    1  \n",
       "2  92+7平书房，婚房装修30万！满2年税少11万！再降20万  baoshan      dachang    1  \n",
       "3  中环景观，电梯复式，豪装45万全送，拎包入住，小格局大设计，  baoshan      dachang    1  \n",
       "4        美好家南北通精装2房板式房型采光好随时好看带天井  baoshan      dachang    1  "
      ]
     },
     "execution_count": 7,
     "metadata": {},
     "output_type": "execute_result"
    }
   ],
   "source": [
    "df_real_estate = pd.DataFrame(columns=real_estate[0], data=real_estate[1:])\n",
    "df_real_estate.head()"
   ]
  },
  {
   "cell_type": "code",
   "execution_count": null,
   "metadata": {},
   "outputs": [],
   "source": [
    "df_real_estate = df_real_estate[(df_real_estate['longitude'] != '') & (df_real_estate['latitude'] != '')]\n",
    "df_real_estate['longitude'] = df_real_estate['longitude'].apply(lambda x: float(x))\n",
    "df_real_estate['latitude'] = df_real_estate['latitude'].apply(lambda x: float(x))"
   ]
  },
  {
   "cell_type": "code",
   "execution_count": 13,
   "metadata": {},
   "outputs": [],
   "source": [
    "geometry = [Point(xy) for xy in zip(df_real_estate['longitude'], df_real_estate['latitude'])]\n",
    "df_real_estate['geometry'] = geometry"
   ]
  },
  {
   "cell_type": "code",
   "execution_count": 16,
   "metadata": {},
   "outputs": [],
   "source": [
    "df_neigh_ml['nb_real_estate'] = 0\n",
    "df_neigh_ml['priceonesquare'] = 0.0"
   ]
  },
  {
   "cell_type": "code",
   "execution_count": null,
   "metadata": {},
   "outputs": [],
   "source": [
    "for j, poi in df_real_estate.iterrows():\n",
    "    find = False\n",
    "    for i, neigh in df_neigh_ml.iterrows():\n",
    "        if poi['geometry'].within(neigh['geometry']):\n",
    "            df_neigh_ml['nb_real_estate'][neigh['ID']] += 1\n",
    "            df_neigh_ml['priceonesquare'][neigh['ID']] += float(poi['onesquaremeter'])\n",
    "            find = True\n",
    "        if find:\n",
    "            break"
   ]
  },
  {
   "cell_type": "code",
   "execution_count": 20,
   "metadata": {},
   "outputs": [],
   "source": [
    "df_neigh_ml['re_price_avg'] = df_neigh_ml['priceonesquare']/df_neigh_ml['nb_real_estate']"
   ]
  },
  {
   "cell_type": "code",
   "execution_count": 21,
   "metadata": {},
   "outputs": [
    {
     "data": {
      "text/html": [
       "<div>\n",
       "<style scoped>\n",
       "    .dataframe tbody tr th:only-of-type {\n",
       "        vertical-align: middle;\n",
       "    }\n",
       "\n",
       "    .dataframe tbody tr th {\n",
       "        vertical-align: top;\n",
       "    }\n",
       "\n",
       "    .dataframe thead th {\n",
       "        text-align: right;\n",
       "    }\n",
       "</style>\n",
       "<table border=\"1\" class=\"dataframe\">\n",
       "  <thead>\n",
       "    <tr style=\"text-align: right;\">\n",
       "      <th></th>\n",
       "      <th>NAME</th>\n",
       "      <th>TYPE</th>\n",
       "      <th>geometry</th>\n",
       "      <th>ID</th>\n",
       "      <th>nb_target</th>\n",
       "      <th>happiness</th>\n",
       "      <th>nb_taxi</th>\n",
       "      <th>surface</th>\n",
       "      <th>nb_transp</th>\n",
       "      <th>nb_rest</th>\n",
       "      <th>...</th>\n",
       "      <th>smell_cat</th>\n",
       "      <th>noise_cat</th>\n",
       "      <th>nb_taxi_km</th>\n",
       "      <th>nb_transp_km</th>\n",
       "      <th>nb_shop_km</th>\n",
       "      <th>nb_rest_km</th>\n",
       "      <th>nb_entertainement_km</th>\n",
       "      <th>nb_real_estate</th>\n",
       "      <th>priceonesquare</th>\n",
       "      <th>re_price_avg</th>\n",
       "    </tr>\n",
       "  </thead>\n",
       "  <tbody>\n",
       "    <tr>\n",
       "      <td>5</td>\n",
       "      <td>???</td>\n",
       "      <td>2</td>\n",
       "      <td>POLYGON Z ((121.36179 30.80039 0.00000, 121.36...</td>\n",
       "      <td>5</td>\n",
       "      <td>1</td>\n",
       "      <td>89.166667</td>\n",
       "      <td>3</td>\n",
       "      <td>43.863191</td>\n",
       "      <td>1622</td>\n",
       "      <td>1131</td>\n",
       "      <td>...</td>\n",
       "      <td>Not smelly</td>\n",
       "      <td>Not noisy</td>\n",
       "      <td>0.068394</td>\n",
       "      <td>36.978614</td>\n",
       "      <td>26.582653</td>\n",
       "      <td>25.784718</td>\n",
       "      <td>1.367890</td>\n",
       "      <td>2289</td>\n",
       "      <td>5.317324e+07</td>\n",
       "      <td>23229.898809</td>\n",
       "    </tr>\n",
       "    <tr>\n",
       "      <td>7</td>\n",
       "      <td>???</td>\n",
       "      <td>2</td>\n",
       "      <td>POLYGON Z ((121.29682 30.81891 0.00000, 121.29...</td>\n",
       "      <td>7</td>\n",
       "      <td>2</td>\n",
       "      <td>83.750000</td>\n",
       "      <td>0</td>\n",
       "      <td>34.930480</td>\n",
       "      <td>835</td>\n",
       "      <td>177</td>\n",
       "      <td>...</td>\n",
       "      <td>Not smelly</td>\n",
       "      <td>Not noisy</td>\n",
       "      <td>0.000000</td>\n",
       "      <td>23.904625</td>\n",
       "      <td>6.784905</td>\n",
       "      <td>5.067208</td>\n",
       "      <td>0.286283</td>\n",
       "      <td>6</td>\n",
       "      <td>6.292617e+04</td>\n",
       "      <td>10487.694636</td>\n",
       "    </tr>\n",
       "    <tr>\n",
       "      <td>8</td>\n",
       "      <td>???</td>\n",
       "      <td>2</td>\n",
       "      <td>POLYGON Z ((121.36713 30.84311 0.00000, 121.36...</td>\n",
       "      <td>8</td>\n",
       "      <td>2</td>\n",
       "      <td>89.166667</td>\n",
       "      <td>0</td>\n",
       "      <td>58.785377</td>\n",
       "      <td>767</td>\n",
       "      <td>157</td>\n",
       "      <td>...</td>\n",
       "      <td>Not smelly</td>\n",
       "      <td>Not noisy</td>\n",
       "      <td>0.000000</td>\n",
       "      <td>13.047462</td>\n",
       "      <td>3.708405</td>\n",
       "      <td>2.670732</td>\n",
       "      <td>0.068044</td>\n",
       "      <td>432</td>\n",
       "      <td>4.131640e+06</td>\n",
       "      <td>9563.982500</td>\n",
       "    </tr>\n",
       "    <tr>\n",
       "      <td>10</td>\n",
       "      <td>???</td>\n",
       "      <td>2</td>\n",
       "      <td>POLYGON Z ((121.76851 30.88156 0.00000, 121.76...</td>\n",
       "      <td>10</td>\n",
       "      <td>1</td>\n",
       "      <td>78.333333</td>\n",
       "      <td>2</td>\n",
       "      <td>105.243132</td>\n",
       "      <td>1267</td>\n",
       "      <td>1030</td>\n",
       "      <td>...</td>\n",
       "      <td>Not smelly</td>\n",
       "      <td>Not noisy</td>\n",
       "      <td>0.019004</td>\n",
       "      <td>12.038790</td>\n",
       "      <td>2.460968</td>\n",
       "      <td>9.786862</td>\n",
       "      <td>0.589112</td>\n",
       "      <td>5117</td>\n",
       "      <td>1.022295e+08</td>\n",
       "      <td>19978.405717</td>\n",
       "    </tr>\n",
       "    <tr>\n",
       "      <td>11</td>\n",
       "      <td>???</td>\n",
       "      <td>2</td>\n",
       "      <td>POLYGON Z ((121.50531 30.88954 0.00000, 121.50...</td>\n",
       "      <td>11</td>\n",
       "      <td>1</td>\n",
       "      <td>45.833333</td>\n",
       "      <td>2</td>\n",
       "      <td>95.484156</td>\n",
       "      <td>1235</td>\n",
       "      <td>398</td>\n",
       "      <td>...</td>\n",
       "      <td>Not smelly</td>\n",
       "      <td>Noisy</td>\n",
       "      <td>0.020946</td>\n",
       "      <td>12.934083</td>\n",
       "      <td>4.147285</td>\n",
       "      <td>4.168231</td>\n",
       "      <td>0.230405</td>\n",
       "      <td>2377</td>\n",
       "      <td>4.245129e+07</td>\n",
       "      <td>17859.186020</td>\n",
       "    </tr>\n",
       "  </tbody>\n",
       "</table>\n",
       "<p>5 rows × 26 columns</p>\n",
       "</div>"
      ],
      "text/plain": [
       "   NAME TYPE                                           geometry  ID  \\\n",
       "5   ???    2  POLYGON Z ((121.36179 30.80039 0.00000, 121.36...   5   \n",
       "7   ???    2  POLYGON Z ((121.29682 30.81891 0.00000, 121.29...   7   \n",
       "8   ???    2  POLYGON Z ((121.36713 30.84311 0.00000, 121.36...   8   \n",
       "10  ???    2  POLYGON Z ((121.76851 30.88156 0.00000, 121.76...  10   \n",
       "11  ???    2  POLYGON Z ((121.50531 30.88954 0.00000, 121.50...  11   \n",
       "\n",
       "    nb_target  happiness  nb_taxi     surface  nb_transp  nb_rest  ...  \\\n",
       "5           1  89.166667        3   43.863191       1622     1131  ...   \n",
       "7           2  83.750000        0   34.930480        835      177  ...   \n",
       "8           2  89.166667        0   58.785377        767      157  ...   \n",
       "10          1  78.333333        2  105.243132       1267     1030  ...   \n",
       "11          1  45.833333        2   95.484156       1235      398  ...   \n",
       "\n",
       "     smell_cat  noise_cat  nb_taxi_km  nb_transp_km  nb_shop_km nb_rest_km  \\\n",
       "5   Not smelly  Not noisy    0.068394     36.978614   26.582653  25.784718   \n",
       "7   Not smelly  Not noisy    0.000000     23.904625    6.784905   5.067208   \n",
       "8   Not smelly  Not noisy    0.000000     13.047462    3.708405   2.670732   \n",
       "10  Not smelly  Not noisy    0.019004     12.038790    2.460968   9.786862   \n",
       "11  Not smelly      Noisy    0.020946     12.934083    4.147285   4.168231   \n",
       "\n",
       "   nb_entertainement_km nb_real_estate  priceonesquare  re_price_avg  \n",
       "5              1.367890           2289    5.317324e+07  23229.898809  \n",
       "7              0.286283              6    6.292617e+04  10487.694636  \n",
       "8              0.068044            432    4.131640e+06   9563.982500  \n",
       "10             0.589112           5117    1.022295e+08  19978.405717  \n",
       "11             0.230405           2377    4.245129e+07  17859.186020  \n",
       "\n",
       "[5 rows x 26 columns]"
      ]
     },
     "execution_count": 21,
     "metadata": {},
     "output_type": "execute_result"
    }
   ],
   "source": [
    "df_neigh_ml.head()"
   ]
  }
 ],
 "metadata": {
  "kernelspec": {
   "display_name": "Python 3",
   "language": "python",
   "name": "python3"
  },
  "language_info": {
   "codemirror_mode": {
    "name": "ipython",
    "version": 3
   },
   "file_extension": ".py",
   "mimetype": "text/x-python",
   "name": "python",
   "nbconvert_exporter": "python",
   "pygments_lexer": "ipython3",
   "version": "3.7.4"
  }
 },
 "nbformat": 4,
 "nbformat_minor": 4
}
