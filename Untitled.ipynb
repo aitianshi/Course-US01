{
 "cells": [
  {
   "cell_type": "code",
   "execution_count": 8,
   "metadata": {},
   "outputs": [],
   "source": [
    "import pandas as pd\n",
    "import matplotlib.pyplot as plt\n",
    "import numpy as np"
   ]
  },
  {
   "cell_type": "code",
   "execution_count": 6,
   "metadata": {},
   "outputs": [
    {
     "data": {
      "text/html": [
       "<div>\n",
       "<style scoped>\n",
       "    .dataframe tbody tr th:only-of-type {\n",
       "        vertical-align: middle;\n",
       "    }\n",
       "\n",
       "    .dataframe tbody tr th {\n",
       "        vertical-align: top;\n",
       "    }\n",
       "\n",
       "    .dataframe thead th {\n",
       "        text-align: right;\n",
       "    }\n",
       "</style>\n",
       "<table border=\"1\" class=\"dataframe\">\n",
       "  <thead>\n",
       "    <tr style=\"text-align: right;\">\n",
       "      <th></th>\n",
       "      <th>id</th>\n",
       "      <th>address</th>\n",
       "      <th>longitude</th>\n",
       "      <th>latitude</th>\n",
       "      <th>bedroom</th>\n",
       "      <th>room</th>\n",
       "      <th>surface</th>\n",
       "      <th>price</th>\n",
       "      <th>onesquaremeter</th>\n",
       "      <th>tags</th>\n",
       "      <th>district</th>\n",
       "      <th>neighborhood</th>\n",
       "      <th>done</th>\n",
       "    </tr>\n",
       "  </thead>\n",
       "  <tbody>\n",
       "    <tr>\n",
       "      <th>0</th>\n",
       "      <td>A888553302</td>\n",
       "      <td>宝山-大场  金地艺境(宝山)(555弄)</td>\n",
       "      <td>121.343927</td>\n",
       "      <td>31.319356</td>\n",
       "      <td>2</td>\n",
       "      <td>2</td>\n",
       "      <td>30.0</td>\n",
       "      <td>1160000.0</td>\n",
       "      <td>38666.666667</td>\n",
       "      <td>金地开发 **首推 地铁首通 价格首降 配套就是你能想到的</td>\n",
       "      <td>baoshan</td>\n",
       "      <td>dachang</td>\n",
       "      <td>1</td>\n",
       "    </tr>\n",
       "    <tr>\n",
       "      <th>1</th>\n",
       "      <td>A888376847</td>\n",
       "      <td>宝山-大场  骏华苑</td>\n",
       "      <td>121.407325</td>\n",
       "      <td>31.302368</td>\n",
       "      <td>1</td>\n",
       "      <td>1</td>\n",
       "      <td>38.0</td>\n",
       "      <td>1950000.0</td>\n",
       "      <td>51315.789474</td>\n",
       "      <td>龙璟公馆嘉兴市近万达广场，北大附属实验校区，地铁沿线高铁站旁</td>\n",
       "      <td>baoshan</td>\n",
       "      <td>dachang</td>\n",
       "      <td>1</td>\n",
       "    </tr>\n",
       "    <tr>\n",
       "      <th>2</th>\n",
       "      <td>A885088482</td>\n",
       "      <td>宝山-大场  琉樽尚品(255弄)</td>\n",
       "      <td>121.397487</td>\n",
       "      <td>31.290871</td>\n",
       "      <td>3</td>\n",
       "      <td>2</td>\n",
       "      <td>92.0</td>\n",
       "      <td>5350000.0</td>\n",
       "      <td>58152.173913</td>\n",
       "      <td>92+7平书房，婚房装修30万！满2年税少11万！再降20万</td>\n",
       "      <td>baoshan</td>\n",
       "      <td>dachang</td>\n",
       "      <td>1</td>\n",
       "    </tr>\n",
       "    <tr>\n",
       "      <th>3</th>\n",
       "      <td>A885392981</td>\n",
       "      <td>宝山-大场  琉樽尚品（255弄）</td>\n",
       "      <td>121.397487</td>\n",
       "      <td>31.290871</td>\n",
       "      <td>2</td>\n",
       "      <td>2</td>\n",
       "      <td>68.0</td>\n",
       "      <td>4350000.0</td>\n",
       "      <td>63970.588235</td>\n",
       "      <td>中环景观，电梯复式，豪装45万全送，拎包入住，小格局大设计，</td>\n",
       "      <td>baoshan</td>\n",
       "      <td>dachang</td>\n",
       "      <td>1</td>\n",
       "    </tr>\n",
       "    <tr>\n",
       "      <th>4</th>\n",
       "      <td>A885831305</td>\n",
       "      <td>宝山-大场  美好家小区</td>\n",
       "      <td>121.421397</td>\n",
       "      <td>31.302658</td>\n",
       "      <td>2</td>\n",
       "      <td>2</td>\n",
       "      <td>80.0</td>\n",
       "      <td>4000000.0</td>\n",
       "      <td>50000.000000</td>\n",
       "      <td>美好家南北通精装2房板式房型采光好随时好看带天井</td>\n",
       "      <td>baoshan</td>\n",
       "      <td>dachang</td>\n",
       "      <td>1</td>\n",
       "    </tr>\n",
       "  </tbody>\n",
       "</table>\n",
       "</div>"
      ],
      "text/plain": [
       "           id                address   longitude   latitude  bedroom  room  \\\n",
       "0  A888553302  宝山-大场  金地艺境(宝山)(555弄)  121.343927  31.319356        2     2   \n",
       "1  A888376847             宝山-大场  骏华苑  121.407325  31.302368        1     1   \n",
       "2  A885088482      宝山-大场  琉樽尚品(255弄)  121.397487  31.290871        3     2   \n",
       "3  A885392981      宝山-大场  琉樽尚品（255弄）  121.397487  31.290871        2     2   \n",
       "4  A885831305           宝山-大场  美好家小区  121.421397  31.302658        2     2   \n",
       "\n",
       "   surface      price  onesquaremeter                            tags  \\\n",
       "0     30.0  1160000.0    38666.666667   金地开发 **首推 地铁首通 价格首降 配套就是你能想到的   \n",
       "1     38.0  1950000.0    51315.789474  龙璟公馆嘉兴市近万达广场，北大附属实验校区，地铁沿线高铁站旁   \n",
       "2     92.0  5350000.0    58152.173913  92+7平书房，婚房装修30万！满2年税少11万！再降20万   \n",
       "3     68.0  4350000.0    63970.588235  中环景观，电梯复式，豪装45万全送，拎包入住，小格局大设计，   \n",
       "4     80.0  4000000.0    50000.000000        美好家南北通精装2房板式房型采光好随时好看带天井   \n",
       "\n",
       "  district neighborhood  done  \n",
       "0  baoshan      dachang     1  \n",
       "1  baoshan      dachang     1  \n",
       "2  baoshan      dachang     1  \n",
       "3  baoshan      dachang     1  \n",
       "4  baoshan      dachang     1  "
      ]
     },
     "execution_count": 6,
     "metadata": {},
     "output_type": "execute_result"
    }
   ],
   "source": [
    "df = pd.read_csv(\"data_files/UTSEUS-anjuke-real-estate-baoshan.csv\")\n",
    "df.head()"
   ]
  },
  {
   "cell_type": "code",
   "execution_count": 7,
   "metadata": {},
   "outputs": [
    {
     "data": {
      "text/html": [
       "<div>\n",
       "<style scoped>\n",
       "    .dataframe tbody tr th:only-of-type {\n",
       "        vertical-align: middle;\n",
       "    }\n",
       "\n",
       "    .dataframe tbody tr th {\n",
       "        vertical-align: top;\n",
       "    }\n",
       "\n",
       "    .dataframe thead th {\n",
       "        text-align: right;\n",
       "    }\n",
       "</style>\n",
       "<table border=\"1\" class=\"dataframe\">\n",
       "  <thead>\n",
       "    <tr style=\"text-align: right;\">\n",
       "      <th></th>\n",
       "      <th>latitude</th>\n",
       "      <th>longitude</th>\n",
       "      <th>bedroom</th>\n",
       "      <th>room</th>\n",
       "      <th>surface</th>\n",
       "      <th>price</th>\n",
       "      <th>onesquaremeter</th>\n",
       "    </tr>\n",
       "  </thead>\n",
       "  <tbody>\n",
       "    <tr>\n",
       "      <th>0</th>\n",
       "      <td>31.319356</td>\n",
       "      <td>121.343927</td>\n",
       "      <td>2</td>\n",
       "      <td>2</td>\n",
       "      <td>30.0</td>\n",
       "      <td>1160000.0</td>\n",
       "      <td>38666.666667</td>\n",
       "    </tr>\n",
       "    <tr>\n",
       "      <th>1</th>\n",
       "      <td>31.302368</td>\n",
       "      <td>121.407325</td>\n",
       "      <td>1</td>\n",
       "      <td>1</td>\n",
       "      <td>38.0</td>\n",
       "      <td>1950000.0</td>\n",
       "      <td>51315.789474</td>\n",
       "    </tr>\n",
       "    <tr>\n",
       "      <th>2</th>\n",
       "      <td>31.290871</td>\n",
       "      <td>121.397487</td>\n",
       "      <td>3</td>\n",
       "      <td>2</td>\n",
       "      <td>92.0</td>\n",
       "      <td>5350000.0</td>\n",
       "      <td>58152.173913</td>\n",
       "    </tr>\n",
       "    <tr>\n",
       "      <th>3</th>\n",
       "      <td>31.290871</td>\n",
       "      <td>121.397487</td>\n",
       "      <td>2</td>\n",
       "      <td>2</td>\n",
       "      <td>68.0</td>\n",
       "      <td>4350000.0</td>\n",
       "      <td>63970.588235</td>\n",
       "    </tr>\n",
       "    <tr>\n",
       "      <th>4</th>\n",
       "      <td>31.302658</td>\n",
       "      <td>121.421397</td>\n",
       "      <td>2</td>\n",
       "      <td>2</td>\n",
       "      <td>80.0</td>\n",
       "      <td>4000000.0</td>\n",
       "      <td>50000.000000</td>\n",
       "    </tr>\n",
       "  </tbody>\n",
       "</table>\n",
       "</div>"
      ],
      "text/plain": [
       "    latitude   longitude  bedroom  room  surface      price  onesquaremeter\n",
       "0  31.319356  121.343927        2     2     30.0  1160000.0    38666.666667\n",
       "1  31.302368  121.407325        1     1     38.0  1950000.0    51315.789474\n",
       "2  31.290871  121.397487        3     2     92.0  5350000.0    58152.173913\n",
       "3  31.290871  121.397487        2     2     68.0  4350000.0    63970.588235\n",
       "4  31.302658  121.421397        2     2     80.0  4000000.0    50000.000000"
      ]
     },
     "execution_count": 7,
     "metadata": {},
     "output_type": "execute_result"
    }
   ],
   "source": [
    "data = df[['latitude','longitude','bedroom','room','surface','price','onesquaremeter']]\n",
    "data.head()"
   ]
  },
  {
   "cell_type": "code",
   "execution_count": 9,
   "metadata": {},
   "outputs": [],
   "source": [
    "data = data[data['price'] < 20000000]"
   ]
  },
  {
   "cell_type": "code",
   "execution_count": 29,
   "metadata": {},
   "outputs": [],
   "source": [
    "X = data[['latitude','longitude','bedroom','room','surface']]\n",
    "Y = data['onesquaremeter']"
   ]
  },
  {
   "cell_type": "code",
   "execution_count": 30,
   "metadata": {},
   "outputs": [
    {
     "data": {
      "text/plain": [
       "(array([1.000e+00, 5.000e+00, 4.000e+00, 1.000e+00, 3.000e+00, 5.000e+00,\n",
       "        6.000e+00, 8.000e+00, 3.000e+00, 4.000e+01, 6.200e+01, 3.600e+01,\n",
       "        2.400e+01, 1.040e+02, 1.460e+02, 1.690e+02, 2.370e+02, 2.250e+02,\n",
       "        1.210e+02, 1.500e+02, 1.080e+02, 1.380e+02, 2.460e+02, 2.770e+02,\n",
       "        2.370e+02, 4.150e+02, 3.150e+02, 4.590e+02, 3.370e+02, 3.280e+02,\n",
       "        2.660e+02, 2.970e+02, 2.510e+02, 2.730e+02, 3.100e+02, 3.250e+02,\n",
       "        3.040e+02, 4.310e+02, 4.170e+02, 5.950e+02, 6.200e+02, 8.410e+02,\n",
       "        8.100e+02, 9.020e+02, 1.125e+03, 1.290e+03, 1.201e+03, 1.204e+03,\n",
       "        1.462e+03, 1.223e+03, 1.287e+03, 1.208e+03, 9.400e+02, 1.390e+03,\n",
       "        1.125e+03, 9.540e+02, 9.540e+02, 7.380e+02, 7.930e+02, 7.030e+02,\n",
       "        6.820e+02, 4.890e+02, 5.630e+02, 5.910e+02, 4.410e+02, 4.690e+02,\n",
       "        3.960e+02, 2.840e+02, 3.490e+02, 2.300e+02, 2.470e+02, 2.300e+02,\n",
       "        2.050e+02, 1.720e+02, 7.300e+01, 9.400e+01, 8.600e+01, 7.900e+01,\n",
       "        3.500e+01, 6.300e+01, 7.100e+01, 1.300e+01, 1.800e+01, 1.100e+01,\n",
       "        2.000e+00, 1.000e+00, 4.000e+00, 8.000e+00, 1.000e+00, 5.000e+00,\n",
       "        4.000e+00, 0.000e+00, 1.000e+00, 0.000e+00, 0.000e+00, 5.000e+00,\n",
       "        2.000e+00, 1.000e+00, 0.000e+00, 1.000e+00]),\n",
       " array([ 1562.5       ,  2473.95833333,  3385.41666667,  4296.875     ,\n",
       "         5208.33333333,  6119.79166667,  7031.25      ,  7942.70833333,\n",
       "         8854.16666667,  9765.625     , 10677.08333333, 11588.54166667,\n",
       "        12500.        , 13411.45833333, 14322.91666667, 15234.375     ,\n",
       "        16145.83333333, 17057.29166667, 17968.75      , 18880.20833333,\n",
       "        19791.66666667, 20703.125     , 21614.58333333, 22526.04166667,\n",
       "        23437.5       , 24348.95833333, 25260.41666667, 26171.875     ,\n",
       "        27083.33333333, 27994.79166667, 28906.25      , 29817.70833333,\n",
       "        30729.16666667, 31640.625     , 32552.08333333, 33463.54166667,\n",
       "        34375.        , 35286.45833333, 36197.91666667, 37109.375     ,\n",
       "        38020.83333333, 38932.29166667, 39843.75      , 40755.20833333,\n",
       "        41666.66666667, 42578.125     , 43489.58333333, 44401.04166667,\n",
       "        45312.5       , 46223.95833333, 47135.41666667, 48046.875     ,\n",
       "        48958.33333333, 49869.79166667, 50781.25      , 51692.70833333,\n",
       "        52604.16666667, 53515.625     , 54427.08333333, 55338.54166667,\n",
       "        56250.        , 57161.45833333, 58072.91666667, 58984.375     ,\n",
       "        59895.83333333, 60807.29166667, 61718.75      , 62630.20833333,\n",
       "        63541.66666667, 64453.125     , 65364.58333333, 66276.04166667,\n",
       "        67187.5       , 68098.95833333, 69010.41666667, 69921.875     ,\n",
       "        70833.33333333, 71744.79166667, 72656.25      , 73567.70833333,\n",
       "        74479.16666667, 75390.625     , 76302.08333333, 77213.54166667,\n",
       "        78125.        , 79036.45833333, 79947.91666667, 80859.375     ,\n",
       "        81770.83333333, 82682.29166667, 83593.75      , 84505.20833333,\n",
       "        85416.66666667, 86328.125     , 87239.58333333, 88151.04166667,\n",
       "        89062.5       , 89973.95833333, 90885.41666667, 91796.875     ,\n",
       "        92708.33333333]),\n",
       " <a list of 100 Patch objects>)"
      ]
     },
     "execution_count": 30,
     "metadata": {},
     "output_type": "execute_result"
    },
    {
     "data": {
      "image/png": "[encoded data removed]",
      "text/plain": [
       "<Figure size 432x288 with 1 Axes>"
      ]
     },
     "metadata": {
      "needs_background": "light"
     },
     "output_type": "display_data"
    }
   ],
   "source": [
    "plt.hist(Y,100)"
   ]
  },
  {
   "cell_type": "code",
   "execution_count": 31,
   "metadata": {},
   "outputs": [],
   "source": [
    "Z = pd.DataFrame.copy(Y)\n",
    "Z[Y <= 46000] = 'Cheap'\n",
    "Z[Y > 46000] = 'Expensive'"
   ]
  },
  {
   "cell_type": "code",
   "execution_count": 222,
   "metadata": {},
   "outputs": [
    {
     "data": {
      "text/plain": [
       "0            Medium\n",
       "1         Expensive\n",
       "2         Expensive\n",
       "3    Very expensive\n",
       "4         Expensive\n",
       "Name: onesquaremeter, dtype: object"
      ]
     },
     "execution_count": 222,
     "metadata": {},
     "output_type": "execute_result"
    }
   ],
   "source": [
    "Z.head()"
   ]
  },
  {
   "cell_type": "code",
   "execution_count": 223,
   "metadata": {},
   "outputs": [
    {
     "data": {
      "text/html": [
       "<div>\n",
       "<style scoped>\n",
       "    .dataframe tbody tr th:only-of-type {\n",
       "        vertical-align: middle;\n",
       "    }\n",
       "\n",
       "    .dataframe tbody tr th {\n",
       "        vertical-align: top;\n",
       "    }\n",
       "\n",
       "    .dataframe thead th {\n",
       "        text-align: right;\n",
       "    }\n",
       "</style>\n",
       "<table border=\"1\" class=\"dataframe\">\n",
       "  <thead>\n",
       "    <tr style=\"text-align: right;\">\n",
       "      <th></th>\n",
       "      <th>latitude</th>\n",
       "      <th>longitude</th>\n",
       "      <th>bedroom</th>\n",
       "      <th>room</th>\n",
       "      <th>surface</th>\n",
       "    </tr>\n",
       "  </thead>\n",
       "  <tbody>\n",
       "    <tr>\n",
       "      <th>0</th>\n",
       "      <td>31.319356</td>\n",
       "      <td>121.343927</td>\n",
       "      <td>2</td>\n",
       "      <td>2</td>\n",
       "      <td>30.0</td>\n",
       "    </tr>\n",
       "    <tr>\n",
       "      <th>1</th>\n",
       "      <td>31.302368</td>\n",
       "      <td>121.407325</td>\n",
       "      <td>1</td>\n",
       "      <td>1</td>\n",
       "      <td>38.0</td>\n",
       "    </tr>\n",
       "    <tr>\n",
       "      <th>2</th>\n",
       "      <td>31.290871</td>\n",
       "      <td>121.397487</td>\n",
       "      <td>3</td>\n",
       "      <td>2</td>\n",
       "      <td>92.0</td>\n",
       "    </tr>\n",
       "    <tr>\n",
       "      <th>3</th>\n",
       "      <td>31.290871</td>\n",
       "      <td>121.397487</td>\n",
       "      <td>2</td>\n",
       "      <td>2</td>\n",
       "      <td>68.0</td>\n",
       "    </tr>\n",
       "    <tr>\n",
       "      <th>4</th>\n",
       "      <td>31.302658</td>\n",
       "      <td>121.421397</td>\n",
       "      <td>2</td>\n",
       "      <td>2</td>\n",
       "      <td>80.0</td>\n",
       "    </tr>\n",
       "  </tbody>\n",
       "</table>\n",
       "</div>"
      ],
      "text/plain": [
       "    latitude   longitude  bedroom  room  surface\n",
       "0  31.319356  121.343927        2     2     30.0\n",
       "1  31.302368  121.407325        1     1     38.0\n",
       "2  31.290871  121.397487        3     2     92.0\n",
       "3  31.290871  121.397487        2     2     68.0\n",
       "4  31.302658  121.421397        2     2     80.0"
      ]
     },
     "execution_count": 223,
     "metadata": {},
     "output_type": "execute_result"
    }
   ],
   "source": [
    "X.head()"
   ]
  },
  {
   "cell_type": "code",
   "execution_count": 69,
   "metadata": {},
   "outputs": [],
   "source": [
    "from sklearn import tree\n",
    "clf = tree.DecisionTreeClassifier()\n",
    "clf = clf.fit(X,Z)"
   ]
  },
  {
   "cell_type": "code",
   "execution_count": 70,
   "metadata": {},
   "outputs": [],
   "source": [
    "X_train, Z_train = X[0:20000], Z[0:20000]\n",
    "X_val, Z_val = X[20000:len(X)], Z[20000:len(Z)]"
   ]
  },
  {
   "cell_type": "code",
   "execution_count": 71,
   "metadata": {},
   "outputs": [],
   "source": [
    "clf = clf.fit(X_train, Z_train)"
   ]
  },
  {
   "cell_type": "code",
   "execution_count": 72,
   "metadata": {},
   "outputs": [],
   "source": [
    "Z_pred = clf.predict(X_val)"
   ]
  },
  {
   "cell_type": "code",
   "execution_count": 73,
   "metadata": {},
   "outputs": [
    {
     "data": {
      "text/plain": [
       "0.6475130434782609"
      ]
     },
     "execution_count": 73,
     "metadata": {},
     "output_type": "execute_result"
    }
   ],
   "source": [
    "np.mean(Z_pred == Z_val)"
   ]
  },
  {
   "cell_type": "code",
   "execution_count": null,
   "metadata": {},
   "outputs": [],
   "source": [
    "#----------------"
   ]
  },
  {
   "cell_type": "code",
   "execution_count": 85,
   "metadata": {},
   "outputs": [
    {
     "data": {
      "text/plain": [
       "0.5344897864120598"
      ]
     },
     "execution_count": 85,
     "metadata": {},
     "output_type": "execute_result"
    }
   ],
   "source": [
    "from sklearn.model_selection import cross_val_score\n",
    "clf = tree.DecisionTreeClassifier(max_depth=50)\n",
    "scores = cross_val_score(clf, X, Z, cv=5)\n",
    "np.mean(scores)"
   ]
  },
  {
   "cell_type": "code",
   "execution_count": 90,
   "metadata": {},
   "outputs": [
    {
     "data": {
      "text/plain": [
       "[Text(167.4, 190.26, 'X[0] <= 31.348\\nentropy = 0.5\\nsamples = 34375\\nvalue = [16746, 17629]'),\n",
       " Text(83.7, 135.9, 'X[4] <= 77.5\\nentropy = 0.322\\nsamples = 16380\\nvalue = [3305, 13075]'),\n",
       " Text(41.85, 81.53999999999999, 'X[1] <= 121.364\\nentropy = 0.405\\nsamples = 8640\\nvalue = [2438, 6202]'),\n",
       " Text(20.925, 27.180000000000007, 'entropy = 0.37\\nsamples = 318\\nvalue = [240, 78]'),\n",
       " Text(62.775000000000006, 27.180000000000007, 'entropy = 0.389\\nsamples = 8322\\nvalue = [2198, 6124]'),\n",
       " Text(125.55000000000001, 81.53999999999999, 'X[1] <= 121.389\\nentropy = 0.199\\nsamples = 7740\\nvalue = [867, 6873]'),\n",
       " Text(104.625, 27.180000000000007, 'entropy = 0.439\\nsamples = 832\\nvalue = [271, 561]'),\n",
       " Text(146.475, 27.180000000000007, 'entropy = 0.158\\nsamples = 6908\\nvalue = [596, 6312]'),\n",
       " Text(251.10000000000002, 135.9, 'X[0] <= 31.405\\nentropy = 0.378\\nsamples = 17995\\nvalue = [13441, 4554]'),\n",
       " Text(209.25, 81.53999999999999, 'X[1] <= 121.363\\nentropy = 0.445\\nsamples = 12950\\nvalue = [8623, 4327]'),\n",
       " Text(188.32500000000002, 27.180000000000007, 'entropy = 0.184\\nsamples = 1305\\nvalue = [1171, 134]'),\n",
       " Text(230.175, 27.180000000000007, 'entropy = 0.461\\nsamples = 11645\\nvalue = [7452, 4193]'),\n",
       " Text(292.95, 81.53999999999999, 'X[1] <= 121.47\\nentropy = 0.086\\nsamples = 5045\\nvalue = [4818, 227]'),\n",
       " Text(272.02500000000003, 27.180000000000007, 'entropy = 0.063\\nsamples = 4917\\nvalue = [4756, 161]'),\n",
       " Text(313.875, 27.180000000000007, 'entropy = 0.5\\nsamples = 128\\nvalue = [62, 66]')]"
      ]
     },
     "execution_count": 90,
     "metadata": {},
     "output_type": "execute_result"
    },
    {
     "data": {
      "image/png": "[encoded data removed]",
      "text/plain": [
       "<Figure size 432x288 with 1 Axes>"
      ]
     },
     "metadata": {
      "needs_background": "light"
     },
     "output_type": "display_data"
    }
   ],
   "source": [
    "clf = tree.DecisionTreeClassifier(max_depth=3)\n",
    "clf = clf.fit(X,Z)\n",
    "tree.plot_tree(clf)"
   ]
  },
  {
   "cell_type": "code",
   "execution_count": null,
   "metadata": {},
   "outputs": [],
   "source": [
    "from sklearn.model_selection import cross_val_score\n",
    "from sklearn.model_selection import ShuffleSplit\n",
    "clf = "
   ]
  },
  {
   "cell_type": "code",
   "execution_count": null,
   "metadata": {},
   "outputs": [],
   "source": []
  },
  {
   "cell_type": "code",
   "execution_count": 209,
   "metadata": {},
   "outputs": [],
   "source": [
    "from sklearn.model_selection import ShuffleSplit"
   ]
  },
  {
   "cell_type": "code",
   "execution_count": 210,
   "metadata": {},
   "outputs": [],
   "source": [
    "X = data[['latitude','longitude','bedroom','room','surface']]\n",
    "Y = data['onesquaremeter']"
   ]
  },
  {
   "cell_type": "code",
   "execution_count": 211,
   "metadata": {},
   "outputs": [],
   "source": [
    "Z = pd.DataFrame.copy(Y)\n",
    "Z[Y <= 20000] = 'Cheap'\n",
    "Z[(Y > 20000) & (Y <= 40000)] = 'Medium'\n",
    "Z[(Y > 40000) & (Y <= 60000)] = 'Expensive'\n",
    "Z[Y > 60000] = 'Very expensive'"
   ]
  },
  {
   "cell_type": "code",
   "execution_count": 212,
   "metadata": {},
   "outputs": [],
   "source": [
    "X_train, y_train = X[0:20000], Z[0:20000]\n",
    "X_test, y_test = X[20000:len(X)], Z[20000:len(Z)]"
   ]
  },
  {
   "cell_type": "code",
   "execution_count": 213,
   "metadata": {},
   "outputs": [],
   "source": [
    "from sklearn.model_selection import train_test_split\n",
    "X_train, X_test, Z_train, Z_test = train_test_split(X, Z, test_size=0.30)"
   ]
  },
  {
   "cell_type": "code",
   "execution_count": 218,
   "metadata": {},
   "outputs": [],
   "source": [
    "from sklearn.preprocessing import StandardScaler\n",
    "scaler = StandardScaler()\n",
    "scaler.fit(X_train)\n",
    "\n",
    "X_train = scaler.transform(X_train)\n",
    "X_test = scaler.transform(X_test)"
   ]
  },
  {
   "cell_type": "code",
   "execution_count": 219,
   "metadata": {},
   "outputs": [
    {
     "data": {
      "text/plain": [
       "0.7276905177428737"
      ]
     },
     "execution_count": 219,
     "metadata": {},
     "output_type": "execute_result"
    }
   ],
   "source": [
    "from sklearn.neighbors import KNeighborsClassifier\n",
    "clf = KNeighborsClassifier(n_neighbors=50)\n",
    "scores = cross_val_score(clf, X, Z, cv=ShuffleSplit(n_splits=5))\n",
    "np.mean(scores)"
   ]
  },
  {
   "cell_type": "code",
   "execution_count": 220,
   "metadata": {},
   "outputs": [],
   "source": [
    "clf.fit(X_train, Z_train)\n",
    "Z_pred = clf.predict(X_test)"
   ]
  },
  {
   "cell_type": "code",
   "execution_count": 221,
   "metadata": {},
   "outputs": [
    {
     "name": "stdout",
     "output_type": "stream",
     "text": [
      "[[ 133  108  162    0]\n",
      " [  10 5876  287  286]\n",
      " [  43  770 1580   10]\n",
      " [   0  452   11  585]]\n",
      "                precision    recall  f1-score   support\n",
      "\n",
      "         Cheap       0.72      0.33      0.45       403\n",
      "     Expensive       0.82      0.91      0.86      6459\n",
      "        Medium       0.77      0.66      0.71      2403\n",
      "Very expensive       0.66      0.56      0.61      1048\n",
      "\n",
      "      accuracy                           0.79     10313\n",
      "     macro avg       0.74      0.61      0.66     10313\n",
      "  weighted avg       0.79      0.79      0.78     10313\n",
      "\n"
     ]
    }
   ],
   "source": [
    "from sklearn.metrics import classification_report, confusion_matrix\n",
    "print(confusion_matrix(Z_test, Z_pred))\n",
    "print(classification_report(Z_test, Z_pred))"
   ]
  },
  {
   "cell_type": "code",
   "execution_count": null,
   "metadata": {},
   "outputs": [],
   "source": []
  },
  {
   "cell_type": "code",
   "execution_count": null,
   "metadata": {},
   "outputs": [],
   "source": []
  },
  {
   "cell_type": "code",
   "execution_count": null,
   "metadata": {},
   "outputs": [],
   "source": []
  }
 ],
 "metadata": {
  "kernelspec": {
   "display_name": "Python 3",
   "language": "python",
   "name": "python3"
  },
  "language_info": {
   "codemirror_mode": {
    "name": "ipython",
    "version": 3
   },
   "file_extension": ".py",
   "mimetype": "text/x-python",
   "name": "python",
   "nbconvert_exporter": "python",
   "pygments_lexer": "ipython3",
   "version": "3.7.3"
  }
 },
 "nbformat": 4,
 "nbformat_minor": 4
}
