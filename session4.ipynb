{
 "cells": [
  {
   "cell_type": "code",
   "execution_count": null,
   "metadata": {},
   "outputs": [],
   "source": [
    "import pandas as pd\n",
    "import pickle\n",
    "import requests as rq\n",
    "import json\n",
    "import math"
   ]
  },
  {
   "cell_type": "code",
   "execution_count": null,
   "metadata": {},
   "outputs": [],
   "source": [
    "df = pd.read_pickle(\"objects_saved/data.pkl\")"
   ]
  },
  {
   "cell_type": "code",
   "execution_count": null,
   "metadata": {},
   "outputs": [],
   "source": [
    "with open('objects_saved/isocodes.pkl', 'rb') as handle:\n",
    "  isocodes = pickle.load(handle)\n",
    "isocodes"
   ]
  },
  {
   "cell_type": "code",
   "execution_count": null,
   "metadata": {},
   "outputs": [],
   "source": [
    "ratings_source = pd.read_csv(\"data_files/data-ratings-2015.csv\", sep=\";\")"
   ]
  },
  {
   "cell_type": "code",
   "execution_count": null,
   "metadata": {},
   "outputs": [],
   "source": [
    "rating_list = {\n",
    "    \"SP_NumericRating\": \"S&P Sovereign Ratings List\",\n",
    "    \"Moodys_NumericRating\": \"Moody's Socvereign Ratings List\",\n",
    "    \"Fitch_NumericRating\": \"Fitch Sovereign Ratings List\"\n",
    "}\n",
    "\n",
    "year = 2015\n",
    "\n",
    "ratings_data = {}"
   ]
  },
  {
   "cell_type": "code",
   "execution_count": null,
   "metadata": {},
   "outputs": [],
   "source": [
    "# Check if we have the right countries\n",
    "for my_country in isocodes:\n",
    "    for index, country in ratings_source['Country2Code'].items():\n",
    "        if country == isocodes[my_country]['iso2']:\n",
    "            ratings_data[my_country] = {\"index\": index}"
   ]
  },
  {
   "cell_type": "code",
   "execution_count": null,
   "metadata": {},
   "outputs": [],
   "source": [
    "for country in ratings_data:\n",
    "    for indic in rating_list:\n",
    "        rating = ratings_source.loc[ratings_data[country]['index'], indic]\n",
    "        if(rating is None):\n",
    "            continue\n",
    "        ratings_data[country].update({indic : rating})"
   ]
  },
  {
   "cell_type": "code",
   "execution_count": null,
   "metadata": {},
   "outputs": [],
   "source": [
    "# Add data to df\n",
    "for country in ratings_data.keys():\n",
    "    for indic in rating_list:\n",
    "        if pd.isnull(df[rating_list[indic]].iloc[list(isocodes).index(country)]):\n",
    "            df[rating_list[indic]].iloc[list(isocodes).index(country)] = ratings_data[country][indic]"
   ]
  },
  {
   "cell_type": "code",
   "execution_count": null,
   "metadata": {},
   "outputs": [],
   "source": [
    "cpi_source = pd.read_excel(\"data_files/data-CPI-2018.xlsx\", header=2)"
   ]
  },
  {
   "cell_type": "code",
   "execution_count": null,
   "metadata": {},
   "outputs": [],
   "source": [
    "cpi_list = {\n",
    "    \"CPI Score 2018\" : \"TI Corruption Perception Index\",\n",
    "    \"Rank \" : \"TI Corruption Perception Index - Ranking\"\n",
    "}\n",
    "\n",
    "cpi_data = {}"
   ]
  },
  {
   "cell_type": "code",
   "execution_count": null,
   "metadata": {},
   "outputs": [],
   "source": [
    "# Check if we have the right countries\n",
    "for my_country in isocodes:\n",
    "    for index, country in cpi_source['ISO3'].items():\n",
    "        if country == isocodes[my_country]['iso3']:\n",
    "            cpi_data[my_country] = {\"index\": index}"
   ]
  },
  {
   "cell_type": "code",
   "execution_count": null,
   "metadata": {},
   "outputs": [],
   "source": [
    "for country in cpi_data:\n",
    "    for indic in cpi_list:\n",
    "        value = cpi_source.loc[cpi_data[country]['index'], indic]\n",
    "        if(value is None):\n",
    "            continue\n",
    "        cpi_data[country].update({indic : value})"
   ]
  },
  {
   "cell_type": "code",
   "execution_count": null,
   "metadata": {},
   "outputs": [],
   "source": [
    "# Add data to df\n",
    "for country in cpi_data.keys():\n",
    "    for indic in cpi_list:\n",
    "        if pd.isnull(df[cpi_list[indic]].iloc[list(isocodes).index(country)]):\n",
    "            df[cpi_list[indic]].iloc[list(isocodes).index(country)] = cpi_data[country][indic]"
   ]
  },
  {
   "cell_type": "code",
   "execution_count": null,
   "metadata": {},
   "outputs": [],
   "source": [
    "# Save isocodes object for later use\n",
    "with open('objects_saved/isocodes.pkl', 'wb') as handle:\n",
    "  pickle.dump(isocodes, handle)"
   ]
  },
  {
   "cell_type": "code",
   "execution_count": null,
   "metadata": {},
   "outputs": [],
   "source": [
    "df.to_pickle(\"objects_saved/data.pkl\")"
   ]
  }
 ],
 "metadata": {
  "kernelspec": {
   "display_name": "Python 3",
   "language": "python",
   "name": "python3"
  },
  "language_info": {
   "codemirror_mode": {
    "name": "ipython",
    "version": 3
   },
   "file_extension": ".py",
   "mimetype": "text/x-python",
   "name": "python",
   "nbconvert_exporter": "python",
   "pygments_lexer": "ipython3",
   "version": "3.7.3"
  }
 },
 "nbformat": 4,
 "nbformat_minor": 4
}
