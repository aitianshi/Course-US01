{
 "cells": [
  {
   "cell_type": "code",
   "execution_count": 112,
   "metadata": {},
   "outputs": [],
   "source": [
    "import pandas as pd\n",
    "import numpy as np"
   ]
  },
  {
   "cell_type": "markdown",
   "metadata": {},
   "source": [
    "### Import and read data"
   ]
  },
  {
   "cell_type": "code",
   "execution_count": 113,
   "metadata": {},
   "outputs": [
    {
     "data": {
      "text/html": [
       "<div>\n",
       "<style scoped>\n",
       "    .dataframe tbody tr th:only-of-type {\n",
       "        vertical-align: middle;\n",
       "    }\n",
       "\n",
       "    .dataframe tbody tr th {\n",
       "        vertical-align: top;\n",
       "    }\n",
       "\n",
       "    .dataframe thead th {\n",
       "        text-align: right;\n",
       "    }\n",
       "</style>\n",
       "<table border=\"1\" class=\"dataframe\">\n",
       "  <thead>\n",
       "    <tr style=\"text-align: right;\">\n",
       "      <th></th>\n",
       "      <th>id</th>\n",
       "      <th>address</th>\n",
       "      <th>longitude</th>\n",
       "      <th>latitude</th>\n",
       "      <th>bedroom</th>\n",
       "      <th>room</th>\n",
       "      <th>surface</th>\n",
       "      <th>price</th>\n",
       "      <th>onesquaremeter</th>\n",
       "      <th>tags</th>\n",
       "      <th>district</th>\n",
       "      <th>neighborhood</th>\n",
       "      <th>done</th>\n",
       "    </tr>\n",
       "  </thead>\n",
       "  <tbody>\n",
       "    <tr>\n",
       "      <th>0</th>\n",
       "      <td>A888553302</td>\n",
       "      <td>宝山-大场  金地艺境(宝山)(555弄)</td>\n",
       "      <td>121.343927</td>\n",
       "      <td>31.319356</td>\n",
       "      <td>2</td>\n",
       "      <td>2</td>\n",
       "      <td>30.0</td>\n",
       "      <td>1160000.0</td>\n",
       "      <td>38666.666667</td>\n",
       "      <td>金地开发 **首推 地铁首通 价格首降 配套就是你能想到的</td>\n",
       "      <td>baoshan</td>\n",
       "      <td>dachang</td>\n",
       "      <td>1</td>\n",
       "    </tr>\n",
       "    <tr>\n",
       "      <th>1</th>\n",
       "      <td>A888376847</td>\n",
       "      <td>宝山-大场  骏华苑</td>\n",
       "      <td>121.407325</td>\n",
       "      <td>31.302368</td>\n",
       "      <td>1</td>\n",
       "      <td>1</td>\n",
       "      <td>38.0</td>\n",
       "      <td>1950000.0</td>\n",
       "      <td>51315.789474</td>\n",
       "      <td>龙璟公馆嘉兴市近万达广场，北大附属实验校区，地铁沿线高铁站旁</td>\n",
       "      <td>baoshan</td>\n",
       "      <td>dachang</td>\n",
       "      <td>1</td>\n",
       "    </tr>\n",
       "    <tr>\n",
       "      <th>2</th>\n",
       "      <td>A885088482</td>\n",
       "      <td>宝山-大场  琉樽尚品(255弄)</td>\n",
       "      <td>121.397487</td>\n",
       "      <td>31.290871</td>\n",
       "      <td>3</td>\n",
       "      <td>2</td>\n",
       "      <td>92.0</td>\n",
       "      <td>5350000.0</td>\n",
       "      <td>58152.173913</td>\n",
       "      <td>92+7平书房，婚房装修30万！满2年税少11万！再降20万</td>\n",
       "      <td>baoshan</td>\n",
       "      <td>dachang</td>\n",
       "      <td>1</td>\n",
       "    </tr>\n",
       "    <tr>\n",
       "      <th>3</th>\n",
       "      <td>A885392981</td>\n",
       "      <td>宝山-大场  琉樽尚品（255弄）</td>\n",
       "      <td>121.397487</td>\n",
       "      <td>31.290871</td>\n",
       "      <td>2</td>\n",
       "      <td>2</td>\n",
       "      <td>68.0</td>\n",
       "      <td>4350000.0</td>\n",
       "      <td>63970.588235</td>\n",
       "      <td>中环景观，电梯复式，豪装45万全送，拎包入住，小格局大设计，</td>\n",
       "      <td>baoshan</td>\n",
       "      <td>dachang</td>\n",
       "      <td>1</td>\n",
       "    </tr>\n",
       "    <tr>\n",
       "      <th>4</th>\n",
       "      <td>A885831305</td>\n",
       "      <td>宝山-大场  美好家小区</td>\n",
       "      <td>121.421397</td>\n",
       "      <td>31.302658</td>\n",
       "      <td>2</td>\n",
       "      <td>2</td>\n",
       "      <td>80.0</td>\n",
       "      <td>4000000.0</td>\n",
       "      <td>50000.000000</td>\n",
       "      <td>美好家南北通精装2房板式房型采光好随时好看带天井</td>\n",
       "      <td>baoshan</td>\n",
       "      <td>dachang</td>\n",
       "      <td>1</td>\n",
       "    </tr>\n",
       "  </tbody>\n",
       "</table>\n",
       "</div>"
      ],
      "text/plain": [
       "           id                address   longitude   latitude  bedroom  room  \\\n",
       "0  A888553302  宝山-大场  金地艺境(宝山)(555弄)  121.343927  31.319356        2     2   \n",
       "1  A888376847             宝山-大场  骏华苑  121.407325  31.302368        1     1   \n",
       "2  A885088482      宝山-大场  琉樽尚品(255弄)  121.397487  31.290871        3     2   \n",
       "3  A885392981      宝山-大场  琉樽尚品（255弄）  121.397487  31.290871        2     2   \n",
       "4  A885831305           宝山-大场  美好家小区  121.421397  31.302658        2     2   \n",
       "\n",
       "   surface      price  onesquaremeter                            tags  \\\n",
       "0     30.0  1160000.0    38666.666667   金地开发 **首推 地铁首通 价格首降 配套就是你能想到的   \n",
       "1     38.0  1950000.0    51315.789474  龙璟公馆嘉兴市近万达广场，北大附属实验校区，地铁沿线高铁站旁   \n",
       "2     92.0  5350000.0    58152.173913  92+7平书房，婚房装修30万！满2年税少11万！再降20万   \n",
       "3     68.0  4350000.0    63970.588235  中环景观，电梯复式，豪装45万全送，拎包入住，小格局大设计，   \n",
       "4     80.0  4000000.0    50000.000000        美好家南北通精装2房板式房型采光好随时好看带天井   \n",
       "\n",
       "  district neighborhood  done  \n",
       "0  baoshan      dachang     1  \n",
       "1  baoshan      dachang     1  \n",
       "2  baoshan      dachang     1  \n",
       "3  baoshan      dachang     1  \n",
       "4  baoshan      dachang     1  "
      ]
     },
     "execution_count": 113,
     "metadata": {},
     "output_type": "execute_result"
    }
   ],
   "source": [
    "df = pd.read_csv(\"../data_files/UTSEUS-anjuke-real-estate-baoshan.csv\")\n",
    "df.head()"
   ]
  },
  {
   "cell_type": "markdown",
   "metadata": {},
   "source": [
    "### Get the data we care about"
   ]
  },
  {
   "cell_type": "code",
   "execution_count": 114,
   "metadata": {},
   "outputs": [
    {
     "data": {
      "text/html": [
       "<div>\n",
       "<style scoped>\n",
       "    .dataframe tbody tr th:only-of-type {\n",
       "        vertical-align: middle;\n",
       "    }\n",
       "\n",
       "    .dataframe tbody tr th {\n",
       "        vertical-align: top;\n",
       "    }\n",
       "\n",
       "    .dataframe thead th {\n",
       "        text-align: right;\n",
       "    }\n",
       "</style>\n",
       "<table border=\"1\" class=\"dataframe\">\n",
       "  <thead>\n",
       "    <tr style=\"text-align: right;\">\n",
       "      <th></th>\n",
       "      <th>longitude</th>\n",
       "      <th>latitude</th>\n",
       "      <th>bedroom</th>\n",
       "      <th>room</th>\n",
       "      <th>surface</th>\n",
       "      <th>price</th>\n",
       "      <th>onesquaremeter</th>\n",
       "    </tr>\n",
       "  </thead>\n",
       "  <tbody>\n",
       "    <tr>\n",
       "      <th>0</th>\n",
       "      <td>121.343927</td>\n",
       "      <td>31.319356</td>\n",
       "      <td>2</td>\n",
       "      <td>2</td>\n",
       "      <td>30.0</td>\n",
       "      <td>1160000.0</td>\n",
       "      <td>38666.666667</td>\n",
       "    </tr>\n",
       "    <tr>\n",
       "      <th>1</th>\n",
       "      <td>121.407325</td>\n",
       "      <td>31.302368</td>\n",
       "      <td>1</td>\n",
       "      <td>1</td>\n",
       "      <td>38.0</td>\n",
       "      <td>1950000.0</td>\n",
       "      <td>51315.789474</td>\n",
       "    </tr>\n",
       "    <tr>\n",
       "      <th>2</th>\n",
       "      <td>121.397487</td>\n",
       "      <td>31.290871</td>\n",
       "      <td>3</td>\n",
       "      <td>2</td>\n",
       "      <td>92.0</td>\n",
       "      <td>5350000.0</td>\n",
       "      <td>58152.173913</td>\n",
       "    </tr>\n",
       "    <tr>\n",
       "      <th>3</th>\n",
       "      <td>121.397487</td>\n",
       "      <td>31.290871</td>\n",
       "      <td>2</td>\n",
       "      <td>2</td>\n",
       "      <td>68.0</td>\n",
       "      <td>4350000.0</td>\n",
       "      <td>63970.588235</td>\n",
       "    </tr>\n",
       "    <tr>\n",
       "      <th>4</th>\n",
       "      <td>121.421397</td>\n",
       "      <td>31.302658</td>\n",
       "      <td>2</td>\n",
       "      <td>2</td>\n",
       "      <td>80.0</td>\n",
       "      <td>4000000.0</td>\n",
       "      <td>50000.000000</td>\n",
       "    </tr>\n",
       "  </tbody>\n",
       "</table>\n",
       "</div>"
      ],
      "text/plain": [
       "    longitude   latitude  bedroom  room  surface      price  onesquaremeter\n",
       "0  121.343927  31.319356        2     2     30.0  1160000.0    38666.666667\n",
       "1  121.407325  31.302368        1     1     38.0  1950000.0    51315.789474\n",
       "2  121.397487  31.290871        3     2     92.0  5350000.0    58152.173913\n",
       "3  121.397487  31.290871        2     2     68.0  4350000.0    63970.588235\n",
       "4  121.421397  31.302658        2     2     80.0  4000000.0    50000.000000"
      ]
     },
     "execution_count": 114,
     "metadata": {},
     "output_type": "execute_result"
    }
   ],
   "source": [
    "data_mod = df[['longitude','latitude','bedroom','room','surface','price','onesquaremeter']]\n",
    "data_mod.head()"
   ]
  },
  {
   "cell_type": "markdown",
   "metadata": {},
   "source": [
    "### Small plots to understand the da"
   ]
  },
  {
   "cell_type": "code",
   "execution_count": 115,
   "metadata": {},
   "outputs": [],
   "source": [
    "from matplotlib import pyplot as plt\n",
    "%matplotlib inline\n",
    "import seaborn as sns"
   ]
  },
  {
   "cell_type": "code",
   "execution_count": 116,
   "metadata": {},
   "outputs": [],
   "source": [
    "sns.set()"
   ]
  },
  {
   "cell_type": "code",
   "execution_count": 117,
   "metadata": {},
   "outputs": [
    {
     "data": {
      "image/png": "[encoded data removed]",
      "text/plain": [
       "<Figure size 720x720 with 1 Axes>"
      ]
     },
     "metadata": {},
     "output_type": "display_data"
    }
   ],
   "source": [
    "sns.lmplot(x='surface', y='onesquaremeter', data=data_mod, height=10)\n",
    "plt.yscale('log')\n",
    "#plt.xscale('log')"
   ]
  },
  {
   "cell_type": "markdown",
   "metadata": {},
   "source": [
    "### Scale the data"
   ]
  },
  {
   "cell_type": "code",
   "execution_count": null,
   "metadata": {},
   "outputs": [],
   "source": [
    "# Scale the data\n",
    "# Purpose : put all the data on the same axis\n",
    "from sklearn.preprocessing import StandardScaler\n",
    "scaler = StandardScaler()\n",
    "data_mod['lat_scale'] = scaler.fit_transform(data_mod[['latitude']])\n",
    "data_mod['lon_scale'] = scaler.fit_transform(data_mod[['longitude']])\n",
    "data_mod['bedr_scale'] = scaler.fit_transform(data_mod[['bedroom']])\n",
    "data_mod['room_scale'] = scaler.fit_transform(data_mod[['room']])\n",
    "data_mod['surf_scale'] = scaler.fit_transform(data_mod[['surface']])"
   ]
  },
  {
   "cell_type": "markdown",
   "metadata": {},
   "source": [
    "### Add categorical data"
   ]
  },
  {
   "cell_type": "code",
   "execution_count": 119,
   "metadata": {},
   "outputs": [],
   "source": [
    "# Add categorical data\n",
    "price = data_mod['onesquaremeter']\n",
    "y = pd.DataFrame.copy(price)\n",
    "\n",
    "y[price <= np.quantile(price, 0.25)] = \"Very Cheap\"\n",
    "y[(price > np.quantile(price, 0.25)) & (price <= np.quantile(price, 0.5))] = \"Cheap\"\n",
    "y[(price > np.quantile(price, 0.5)) & (price <= np.quantile(price, 0.75))] = \"Expensive\"\n",
    "y[price > np.quantile(price, 0.75)] = \"Very Expensive\""
   ]
  },
  {
   "cell_type": "markdown",
   "metadata": {},
   "source": [
    "### Separate the original data and the data used in the algorithm"
   ]
  },
  {
   "cell_type": "code",
   "execution_count": 120,
   "metadata": {},
   "outputs": [],
   "source": [
    "# Separate df data and ML data\n",
    "data = data_mod[['lat_scale','lon_scale','bedr_scale','room_scale','surf_scale']]"
   ]
  },
  {
   "cell_type": "markdown",
   "metadata": {},
   "source": [
    "### Training and Testing sets creation"
   ]
  },
  {
   "cell_type": "code",
   "execution_count": 121,
   "metadata": {},
   "outputs": [],
   "source": [
    "# Create the different sets of data (training/testing)\n",
    "from sklearn.model_selection import train_test_split\n",
    "X_train, X_test, y_train, y_test = train_test_split(data, y, test_size=0.3, shuffle=True)"
   ]
  },
  {
   "cell_type": "markdown",
   "metadata": {},
   "source": [
    "### Model part\n",
    "#### Create - Train - Predict"
   ]
  },
  {
   "cell_type": "code",
   "execution_count": null,
   "metadata": {},
   "outputs": [],
   "source": [
    "# Model\n",
    "from sklearn.ensemble import RandomForestClassifier\n",
    "rfc = RandomForestClassifier()\n",
    "rfc.fit(X_train, y_train)\n",
    "y_predict = rfc.predict(X_test)"
   ]
  },
  {
   "cell_type": "markdown",
   "metadata": {},
   "source": [
    "### Print results"
   ]
  },
  {
   "cell_type": "code",
   "execution_count": 125,
   "metadata": {},
   "outputs": [
    {
     "name": "stdout",
     "output_type": "stream",
     "text": [
      "0.7729782082324456\n",
      "                precision    recall  f1-score   support\n",
      "\n",
      "         Cheap       0.71      0.72      0.71      2562\n",
      "     Expensive       0.70      0.69      0.69      2598\n",
      "    Very Cheap       0.85      0.84      0.84      2526\n",
      "Very Expensive       0.83      0.85      0.84      2639\n",
      "\n",
      "      accuracy                           0.77     10325\n",
      "     macro avg       0.77      0.77      0.77     10325\n",
      "  weighted avg       0.77      0.77      0.77     10325\n",
      "\n"
     ]
    }
   ],
   "source": [
    "# Show the results\n",
    "# print(rfc.score(X_test, y_test))\n",
    "# or \n",
    "from sklearn.metrics import classification_report\n",
    "print(classification_report(y_test, y_predict))\n",
    "# or\n",
    "# np.mean(y_test == y_predict)"
   ]
  }
 ],
 "metadata": {
  "kernelspec": {
   "display_name": "Python 3",
   "language": "python",
   "name": "python3"
  },
  "language_info": {
   "codemirror_mode": {
    "name": "ipython",
    "version": 3
   },
   "file_extension": ".py",
   "mimetype": "text/x-python",
   "name": "python",
   "nbconvert_exporter": "python",
   "pygments_lexer": "ipython3",
   "version": "3.7.3"
  }
 },
 "nbformat": 4,
 "nbformat_minor": 4
}
