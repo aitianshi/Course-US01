{
 "cells": [
  {
   "cell_type": "markdown",
   "metadata": {},
   "source": [
    "### Cross validation"
   ]
  },
  {
   "cell_type": "code",
   "execution_count": null,
   "metadata": {},
   "outputs": [],
   "source": [
    "# Create the different sets of data (training/testing)\n",
    "from sklearn.model_selection import cross_val_score\n",
    "from sklearn.model_selection import ShuffleSplit\n",
    "\n",
    "# Model\n",
    "from sklearn.ensemble import RandomForestClassifier\n",
    "rfc = RandomForestClassifier()\n",
    "# use cross validation\n",
    "scores = cross_val_score(rfc, data, y, cv=ShuffleSplit(n_splits=5))\n",
    "# print score\n",
    "np.mean(scores)"
   ]
  },
  {
   "cell_type": "markdown",
   "metadata": {},
   "source": [
    "### Best estimators & parameters\n",
    "#### Will show you the best parameters or values to use with a classifier and data given"
   ]
  },
  {
   "cell_type": "code",
   "execution_count": null,
   "metadata": {},
   "outputs": [],
   "source": [
    "from sklearn.model_selection import GridSearchCV\n",
    "from sklearn.model_selection import ShuffleSplit\n",
    "from sklearn import tree\n",
    "\n",
    "# Add parameters here --- more parameters = longer computing time\n",
    "param_grid = {'max_depth': [18, 19, 20], 'param2' : [0, 0, 0]}\n",
    "\n",
    "# Change the current Classifier with the Classifier you want to use\n",
    "search = GridSearchCV(tree.DecisionTreeClassifier(), param_grid, cv=ShuffleSplit(n_splits=5))\n",
    "search.fit(data, y)\n",
    "\n",
    "# Print the best ...\n",
    "search.best_estimator_\n",
    "search.best_params_\n",
    "\n",
    "# Use the new parameters\n",
    "clf = tree.DecisionTreeClassifier(max_depth=26)\n",
    "scores = cross_val_score(clf, data, y, cv=ShuffleSplit(n_splits=5))\n",
    "np.mean(scores)"
   ]
  },
  {
   "cell_type": "markdown",
   "metadata": {},
   "source": []
  },
  {
   "cell_type": "code",
   "execution_count": null,
   "metadata": {},
   "outputs": [],
   "source": []
  },
  {
   "cell_type": "code",
   "execution_count": null,
   "metadata": {},
   "outputs": [],
   "source": []
  }
 ],
 "metadata": {
  "kernelspec": {
   "display_name": "Python 3",
   "language": "python",
   "name": "python3"
  },
  "language_info": {
   "codemirror_mode": {
    "name": "ipython",
    "version": 3
   },
   "file_extension": ".py",
   "mimetype": "text/x-python",
   "name": "python",
   "nbconvert_exporter": "python",
   "pygments_lexer": "ipython3",
   "version": "3.7.3"
  }
 },
 "nbformat": 4,
 "nbformat_minor": 4
}
